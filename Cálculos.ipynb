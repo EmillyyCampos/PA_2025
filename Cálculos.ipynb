{
  "nbformat": 4,
  "nbformat_minor": 0,
  "metadata": {
    "colab": {
      "provenance": [],
      "authorship_tag": "ABX9TyMl2ceKPMAomOVHS/9YeIcJ",
      "include_colab_link": true
    },
    "kernelspec": {
      "name": "python3",
      "display_name": "Python 3"
    },
    "language_info": {
      "name": "python"
    }
  },
  "cells": [
    {
      "cell_type": "markdown",
      "metadata": {
        "id": "view-in-github",
        "colab_type": "text"
      },
      "source": [
        "<a href=\"https://colab.research.google.com/github/EmillyyCampos/PA_2025/blob/main/C%C3%A1lculos.ipynb\" target=\"_parent\"><img src=\"https://colab.research.google.com/assets/colab-badge.svg\" alt=\"Open In Colab\"/></a>"
      ]
    },
    {
      "cell_type": "markdown",
      "source": [
        "#Calculando os dados dos alunos"
      ],
      "metadata": {
        "id": "s_XQ0uxYnIQ5"
      }
    },
    {
      "cell_type": "code",
      "source": [
        "#entrada\n",
        "nota1= float(input('Digite a primeira nota: '))\n",
        "nota2 = float(input('Digite a segunda nota: '))\n",
        "\n",
        "#processamento\n",
        "media = (nota1 + nota2) / 2\n",
        "\n",
        "#saida\n",
        "print('a media é: ', media)"
      ],
      "metadata": {
        "colab": {
          "base_uri": "https://localhost:8080/"
        },
        "id": "ngwMgSp_gzWx",
        "outputId": "577be6be-2ae5-4f53-eb4a-1f9454f9807d"
      },
      "execution_count": 11,
      "outputs": [
        {
          "output_type": "stream",
          "name": "stdout",
          "text": [
            "Digite a primeira nota: 2\n",
            "Digite a segunda nota: 7\n",
            "a media é:  4.5\n"
          ]
        }
      ]
    },
    {
      "cell_type": "markdown",
      "source": [
        "#Valor total de peças\n"
      ],
      "metadata": {
        "id": "EDPvYlvQq6jk"
      }
    },
    {
      "cell_type": "code",
      "source": [
        "#entrada\n",
        "VALOR = float(input('Valor da peça: '))\n",
        "QTDE = float(input('Quantidade de peça: '))\n",
        "\n",
        "#processamento\n",
        "VT = (QTDE*VALOR)\n",
        "\n",
        "#saida\n",
        "print ('o VT das peças é: ', VT)"
      ],
      "metadata": {
        "colab": {
          "base_uri": "https://localhost:8080/"
        },
        "id": "M6PLIGKFnWSK",
        "outputId": "56a35b78-7c84-49a3-99c6-dab27e8da0d5"
      },
      "execution_count": 43,
      "outputs": [
        {
          "output_type": "stream",
          "name": "stdout",
          "text": [
            "Valor da peça: 75\n",
            "Quantidade de peça: 120\n",
            "o VT das peças é:  9000.0\n"
          ]
        }
      ]
    },
    {
      "cell_type": "markdown",
      "source": [
        "#Celsius para Fahrenheit"
      ],
      "metadata": {
        "id": "n9jGoz61uE7_"
      }
    },
    {
      "cell_type": "code",
      "source": [
        "#entrada\n",
        "Celsius = float(input('Temperatura1: '))\n",
        "\n",
        "#processamento\n",
        "Graus = (32) + Celsius * 1.8\n",
        "\n",
        "#saida\n",
        "print ('A temperatura atual é de: ', Graus)"
      ],
      "metadata": {
        "colab": {
          "base_uri": "https://localhost:8080/"
        },
        "id": "r6vz_6ljuO3d",
        "outputId": "3f67119b-8c5f-454f-9fd4-33caab2e16de"
      },
      "execution_count": 57,
      "outputs": [
        {
          "output_type": "stream",
          "name": "stdout",
          "text": [
            "Temperatura1: 25\n",
            "A temperatura atual é de:  77.0\n"
          ]
        }
      ]
    },
    {
      "cell_type": "markdown",
      "source": [
        "#Quilômetro em Milha"
      ],
      "metadata": {
        "id": "5n59WOYPz_tz"
      }
    },
    {
      "cell_type": "code",
      "source": [
        "#entrada\n",
        "Quilometro = float(input('Comprimento: '))\n",
        "\n",
        "#processamento(\n",
        "KM = (Quilometro/1.609)\n",
        "\n",
        "#saida\n",
        "print ('As milhas percorridas foram: ', KM)"
      ],
      "metadata": {
        "colab": {
          "base_uri": "https://localhost:8080/"
        },
        "id": "i6rbZFTgztpd",
        "outputId": "cae3374a-4899-4fb3-a09f-4117dbe2c459"
      },
      "execution_count": 72,
      "outputs": [
        {
          "output_type": "stream",
          "name": "stdout",
          "text": [
            "Comprimento: 60\n",
            "As milhas percorridas foram:  37.290242386575514\n"
          ]
        }
      ]
    }
  ]
}