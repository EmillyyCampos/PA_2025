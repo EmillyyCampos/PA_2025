{
  "nbformat": 4,
  "nbformat_minor": 0,
  "metadata": {
    "colab": {
      "provenance": [],
      "authorship_tag": "ABX9TyP5ZnvT0KaOmz5eEZx45NQi",
      "include_colab_link": true
    },
    "kernelspec": {
      "name": "python3",
      "display_name": "Python 3"
    },
    "language_info": {
      "name": "python"
    }
  },
  "cells": [
    {
      "cell_type": "markdown",
      "metadata": {
        "id": "view-in-github",
        "colab_type": "text"
      },
      "source": [
        "<a href=\"https://colab.research.google.com/github/EmillyyCampos/PA_2025/blob/main/24_exerc%C3%ADcios_Python.ipynb\" target=\"_parent\"><img src=\"https://colab.research.google.com/assets/colab-badge.svg\" alt=\"Open In Colab\"/></a>"
      ]
    },
    {
      "cell_type": "markdown",
      "source": [
        "#*24* *exercícios de Python*"
      ],
      "metadata": {
        "id": "APWZMEauvU4t"
      }
    },
    {
      "cell_type": "markdown",
      "source": [
        "#1) MOSTRAR TODOS OS NÚMEROS ÍMPARES DE 1 A 30\n",
        "#Escreva um algoritmo que leia 20 valores inteiros e ao final exiba:\n",
        "\n",
        "a) a soma dos números positivos;\n",
        "\n",
        "b) a quantidade de valores negativos."
      ],
      "metadata": {
        "id": "l2LdYjOxvbUx"
      }
    },
    {
      "cell_type": "code",
      "source": [
        "soma_positivos = 0\n",
        "quantidade_negativos = 0\n",
        "\n",
        "print(\"Digite 20 valores inteiros:\")\n",
        "\n",
        "for i in range(1, 21):\n",
        "    valor = int(input(f\"Valor {i}/20: \"))\n",
        "\n",
        "    if valor > 0:\n",
        "        soma_positivos += valor\n",
        "    elif valor < 0:\n",
        "        quantidade_negativos += 1\n",
        "print(f\"\\nSoma dos números positivos: {soma_positivos}\")\n",
        "print(f\"Quantidade de valores negativos: {quantidade_negativos}\")"
      ],
      "metadata": {
        "colab": {
          "base_uri": "https://localhost:8080/"
        },
        "id": "J0u0bx1qvffz",
        "outputId": "50854264-c1e4-49c4-cd48-f686379a2da1"
      },
      "execution_count": 132,
      "outputs": [
        {
          "output_type": "stream",
          "name": "stdout",
          "text": [
            "Digite 20 valores inteiros:\n",
            "Valor 1/20: -9\n",
            "Valor 2/20: 3\n",
            "Valor 3/20: 55\n",
            "Valor 4/20: -2\n",
            "Valor 5/20: 444\n",
            "Valor 6/20: 7\n",
            "Valor 7/20: 31\n",
            "Valor 8/20: -99\n",
            "Valor 9/20: 3\n",
            "Valor 10/20: 5\n",
            "Valor 11/20: 77\n",
            "Valor 12/20: -834\n",
            "Valor 13/20: 2\n",
            "Valor 14/20: 4\n",
            "Valor 15/20: 6\n",
            "Valor 16/20: 12\n",
            "Valor 17/20: 51\n",
            "Valor 18/20: -1\n",
            "Valor 19/20: 3\n",
            "Valor 20/20: 1\n",
            "\n",
            "Soma dos números positivos: 704\n",
            "Quantidade de valores negativos: 5\n"
          ]
        }
      ]
    },
    {
      "cell_type": "markdown",
      "source": [
        "#2) CONTADOR DE UM NÚMERO INCIAL E UM NÚMERO FINAL DIGITADOS PELO USUÁRIO"
      ],
      "metadata": {
        "id": "YMhfgCEt4kDN"
      }
    },
    {
      "cell_type": "code",
      "source": [
        "inicio = int(input(\"Digite o número inicial: \"))\n",
        "fim = int(input(\"Digite o número final: \"))\n",
        "\n",
        "print(f\"\\nContando de {inicio} até {fim}:\")\n",
        "for numero in range(inicio, fim + 1):\n",
        "    print(numero, end=\" \")\n",
        "\n",
        "print(\"\\n\")"
      ],
      "metadata": {
        "colab": {
          "base_uri": "https://localhost:8080/"
        },
        "id": "M_xzyOKn4lH-",
        "outputId": "d29c3a0b-dcf7-4926-f77a-4235ab9e6996"
      },
      "execution_count": 129,
      "outputs": [
        {
          "output_type": "stream",
          "name": "stdout",
          "text": [
            "Digite o número inicial: 5\n",
            "Digite o número final: 9\n",
            "\n",
            "Contando de 5 até 9:\n",
            "5 6 7 8 9 \n",
            "\n"
          ]
        }
      ]
    },
    {
      "cell_type": "markdown",
      "source": [
        "#3) SOME TODOS OS NÚMEROS DE 1 A 10"
      ],
      "metadata": {
        "id": "b0cmfoOv4lXW"
      }
    },
    {
      "cell_type": "code",
      "source": [
        "soma = 0\n",
        "for numero in range(1, 11):\n",
        "  soma += numero\n",
        "\n",
        "print(f\"A soma é: {soma} \")"
      ],
      "metadata": {
        "colab": {
          "base_uri": "https://localhost:8080/"
        },
        "id": "I2a3zKTY4o1M",
        "outputId": "97c19271-c595-422b-f739-05f2ddda9e0d"
      },
      "execution_count": 95,
      "outputs": [
        {
          "output_type": "stream",
          "name": "stdout",
          "text": [
            "A soma é: 55 \n"
          ]
        }
      ]
    },
    {
      "cell_type": "markdown",
      "source": [
        "#4) USANDO O WHILE PERGUNTE AO USUÁRIO QUAL A MELHOR ESCOLHA DE RIBEIRÃO PIRES, ENQUANTO A PESSOA NÃO DIGITAR \"ETEC MCM\", ENQUANTO NÃO DIGITA CERTO ELE VAI INFORMANDO QUE O USUÁRIO ERROU"
      ],
      "metadata": {
        "id": "A5j4Dnhd4pEw"
      }
    },
    {
      "cell_type": "code",
      "source": [
        "escola = print(\"Qual a melhor escola de Ribeiräo Pires?\")\n",
        "\n",
        "while True:\n",
        "    resposta = input(\"Sua resposta: \")\n",
        "\n",
        "    if resposta == \"ETEC MCM\":\n",
        "        print(\"Correto!\")\n",
        "        break\n",
        "    else:\n",
        "        print(\"Errado.\")"
      ],
      "metadata": {
        "id": "Hpbd1_O-4sco",
        "colab": {
          "base_uri": "https://localhost:8080/"
        },
        "outputId": "39f0673d-5059-423b-b2e6-60caacba9de3"
      },
      "execution_count": 13,
      "outputs": [
        {
          "output_type": "stream",
          "name": "stdout",
          "text": [
            "Qual a melhor escola de Ribeiräo Pires?\n",
            "Sua resposta: Maria Cristina Medeiros\n",
            "Errado.\n",
            "Sua resposta: Leico\n",
            "Errado.\n",
            "Sua resposta: ETEC MCM\n",
            "Correto!\n"
          ]
        }
      ]
    },
    {
      "cell_type": "markdown",
      "source": [
        "#5) Receba um número, verifique se é diferente de zero, caso seja diferente,continue retornando falso até que ele digite esse valor."
      ],
      "metadata": {
        "id": "8P5WMjGh5UQb"
      }
    },
    {
      "cell_type": "code",
      "source": [
        "numero = input(\"Digite um número: \")\n",
        "\n",
        "if numero != 0:\n",
        "  print(\"Falso!\")\n",
        "else:\n",
        "  print(\"Certo!\")"
      ],
      "metadata": {
        "colab": {
          "base_uri": "https://localhost:8080/"
        },
        "id": "XDgji7Jy5VLJ",
        "outputId": "9f3c539b-8831-4e7e-b1c5-5c1d6681b770"
      },
      "execution_count": 47,
      "outputs": [
        {
          "output_type": "stream",
          "name": "stdout",
          "text": [
            "Digite um número: 5\n",
            "Falso!\n"
          ]
        }
      ]
    },
    {
      "cell_type": "markdown",
      "source": [
        "#6) SOMAR NÚMEROS ATÉ QUE O USUÁRIO DIGITE 0"
      ],
      "metadata": {
        "id": "lD24Wx5t5Vbx"
      }
    },
    {
      "cell_type": "code",
      "source": [
        "soma = 0\n",
        "\n",
        "for e in range(10):\n",
        "    numero = float(input(\"Digite um número para somar (0 para parar): \"))\n",
        "\n",
        "    if numero == 0:\n",
        "        print(\"Certo!\")\n",
        "        break\n",
        "\n",
        "    soma += numero\n",
        "    print(f\"Tente mais uma vez. Total: {soma}\")\n",
        "\n",
        "print(f\"A soma final é: {soma}\")\n"
      ],
      "metadata": {
        "colab": {
          "base_uri": "https://localhost:8080/"
        },
        "id": "-uPHPSVG5YBm",
        "outputId": "ac4a9c90-3c7f-4ba8-ac75-293347510c57"
      },
      "execution_count": 91,
      "outputs": [
        {
          "output_type": "stream",
          "name": "stdout",
          "text": [
            "Digite um número para somar (0 para parar): 5\n",
            "Tente mais uma vez. Total: 5.0\n",
            "Digite um número para somar (0 para parar): 6\n",
            "Tente mais uma vez. Total: 11.0\n",
            "Digite um número para somar (0 para parar): 8\n",
            "Tente mais uma vez. Total: 19.0\n",
            "Digite um número para somar (0 para parar): 0\n",
            "Certo!\n",
            "A soma final é: 19.0\n"
          ]
        }
      ]
    },
    {
      "cell_type": "markdown",
      "source": [
        "#7) CRIE UM MENU DE OPÇÕES, COM 3 OPÇÕES,E ELE VAI SOLICITANDO NOVAMENTE A OPÇÕES ATÉ QUE O USUÁRIO ESCOLHA A OPÇÃO SAIR"
      ],
      "metadata": {
        "id": "ls8R1l7E5Ycq"
      }
    },
    {
      "cell_type": "code",
      "source": [
        "def opcao1():\n",
        "    print(\"\\n--- Opção 1 Selecionada ---\")\n",
        "    print(\"Função especial da opção 1\")\n",
        "    input(\"Pressione Enter para voltar...\")\n",
        "\n",
        "def opcao2():\n",
        "    print(\"\\n--- Opção 2 Selecionada ---\")\n",
        "    print(\"Função especial da opção 2\")\n",
        "    input(\"Pressione Enter para voltar...\")\n",
        "\n",
        "def opcao3():\n",
        "    print(\"\\n--- Opção 3 Selecionada ---\")\n",
        "    print(\"Função especial da opção 3\")\n",
        "    input(\"Pressione Enter para voltar...\")\n",
        "\n",
        "\n",
        "while True:\n",
        "    print(\"\\n\" + \"=\"*40)\n",
        "    print(\"           MENU INTERATIVO\")\n",
        "    print(\"=\"*40)\n",
        "    print(\"1. Ver informações\")\n",
        "    print(\"2. Configurações\")\n",
        "    print(\"3. Ajuda\")\n",
        "    print(\"4. Sair\")\n",
        "    print(\"=\"*40)\n",
        "\n",
        "    opcao = input(\"Escolha uma opção (1-4): \").strip()\n",
        "\n",
        "    if opcao == \"1\":\n",
        "        opcao1()\n",
        "    elif opcao == \"2\":\n",
        "        opcao2()\n",
        "    elif opcao == \"3\":\n",
        "        opcao3()\n",
        "    elif opcao == \"4\":\n",
        "        print(\"\\nObrigado por usar o programa!\")\n",
        "        break\n",
        "    else:\n",
        "        print(\"\\nOpção inválida! Por favor, digite 1, 2, 3 ou 4.\")\n",
        "        input(\"Pressione Enter para tentar novamente...\")\n",
        "\n",
        "print(\"Até a próxima!\")"
      ],
      "metadata": {
        "colab": {
          "base_uri": "https://localhost:8080/"
        },
        "id": "R6c45whK5aY4",
        "outputId": "98886aed-b51e-4a6f-c555-9ba2173a303f"
      },
      "execution_count": 128,
      "outputs": [
        {
          "output_type": "stream",
          "name": "stdout",
          "text": [
            "\n",
            "========================================\n",
            "           MENU INTERATIVO\n",
            "========================================\n",
            "1. Ver informações\n",
            "2. Configurações\n",
            "3. Ajuda\n",
            "4. Sair\n",
            "========================================\n",
            "Escolha uma opção (1-4): 3\n",
            "\n",
            "--- Opção 3 Selecionada ---\n",
            "Função especial da opção 3\n",
            "Pressione Enter para voltar...2\n",
            "\n",
            "========================================\n",
            "           MENU INTERATIVO\n",
            "========================================\n",
            "1. Ver informações\n",
            "2. Configurações\n",
            "3. Ajuda\n",
            "4. Sair\n",
            "========================================\n",
            "Escolha uma opção (1-4): 4\n",
            "\n",
            "Obrigado por usar o programa!\n",
            "Até a próxima!\n"
          ]
        }
      ]
    },
    {
      "cell_type": "markdown",
      "source": [
        "#8) Faça um programa que mostre os n termos da Série a seguir e realize o cálculo\n",
        "Solicite ao usuário a quantidade de repetições\n",
        "\n",
        "s = (1/1)+(2/3)+(3/5)+(4/7)+...+...n/m"
      ],
      "metadata": {
        "id": "VIwSEA9v5arl"
      }
    },
    {
      "cell_type": "code",
      "source": [
        "print(\"=== CÁLCULO DA SÉRIE ===\")\n",
        "print(\"Padrão: (numerator/denominador)\")\n",
        "print(\"Numerador: 1, 2, 3, 4, ...\")\n",
        "print(\"Denominador: 1, 3, 5, 7, ... (ímpares)\\n\")\n",
        "\n",
        "n = int(input(\"Quantos termos deseja calcular? \"))\n",
        "\n",
        "soma = 0\n",
        "print(f\"\\n{'Termo':<6} | {'Fração':<8} | {'Valor':<8} | {'Soma Acumulada':<15}\")\n",
        "print(\"-\" * 45)\n",
        "\n",
        "for i in range(1, n + 1):\n",
        "    numerador = i\n",
        "    denominador = 2 * i - 1\n",
        "    termo = numerador / denominador\n",
        "    soma += termo\n",
        "\n",
        "    print(f\"{i:<6} | {numerador}/{denominador:<6} | {termo:<8.4f} | {soma:<15.4f}\")\n",
        "\n",
        "print(\"-\" * 45)\n",
        "print(f\"\\nResultado final dos {n} termos: {soma:.6f}\")"
      ],
      "metadata": {
        "colab": {
          "base_uri": "https://localhost:8080/"
        },
        "id": "hYgZuVP25huJ",
        "outputId": "164dcd82-55af-40d6-a924-fb8a0ec8350c"
      },
      "execution_count": 99,
      "outputs": [
        {
          "output_type": "stream",
          "name": "stdout",
          "text": [
            "=== CÁLCULO DA SÉRIE ===\n",
            "Padrão: (numerator/denominador)\n",
            "Numerador: 1, 2, 3, 4, ...\n",
            "Denominador: 1, 3, 5, 7, ... (ímpares)\n",
            "\n",
            "Quantos termos deseja calcular? 5\n",
            "\n",
            "Termo  | Fração   | Valor    | Soma Acumulada \n",
            "---------------------------------------------\n",
            "1      | 1/1      | 1.0000   | 1.0000         \n",
            "2      | 2/3      | 0.6667   | 1.6667         \n",
            "3      | 3/5      | 0.6000   | 2.2667         \n",
            "4      | 4/7      | 0.5714   | 2.8381         \n",
            "5      | 5/9      | 0.5556   | 3.3937         \n",
            "---------------------------------------------\n",
            "\n",
            "Resultado final dos 5 termos: 3.393651\n"
          ]
        }
      ]
    },
    {
      "cell_type": "markdown",
      "source": [
        "#1) Soma dos números de uma lista\n",
        "Dada a lista numeros = [3, 7, 2, 8, 10], use um for para calcular a soma de todos os elementos."
      ],
      "metadata": {
        "id": "h2ZaBauq5hz6"
      }
    },
    {
      "cell_type": "code",
      "source": [
        "numeros = [3, 7, 2, 8, 10]\n",
        "soma = 0\n",
        "for numero in numeros:\n",
        "    soma += numero\n",
        "\n",
        "print(\"A soma dos números é:\", soma)"
      ],
      "metadata": {
        "colab": {
          "base_uri": "https://localhost:8080/"
        },
        "id": "-_dTw1Ij5j8z",
        "outputId": "ceec6ce9-c3b9-4904-efa0-850171bacadf"
      },
      "execution_count": 44,
      "outputs": [
        {
          "output_type": "stream",
          "name": "stdout",
          "text": [
            "A soma dos números é: 30\n"
          ]
        }
      ]
    },
    {
      "cell_type": "markdown",
      "source": [
        "#2) Contagem de vogais em uma string\n",
        "Peça uma palavra ao usuário e use um for para contar quantas vogais (a, e, i, o, u) existem."
      ],
      "metadata": {
        "id": "m-gqcyPY5kLW"
      }
    },
    {
      "cell_type": "code",
      "source": [
        "palavra = input(\"Digite uma palavra: \").lower()\n",
        "vogais = \"aeiou\"\n",
        "contagem = {v:0 for v in vogais}\n",
        "for letra in palavra:\n",
        "    if letra in vogais:\n",
        "        contagem[letra] += 1\n",
        "print(contagem)"
      ],
      "metadata": {
        "colab": {
          "base_uri": "https://localhost:8080/"
        },
        "id": "PRlXOKDU5mBl",
        "outputId": "734cc7fd-76a4-4976-a363-31b68e5ac8c2"
      },
      "execution_count": 25,
      "outputs": [
        {
          "output_type": "stream",
          "name": "stdout",
          "text": [
            "Digite uma palavra: emilly\n",
            "{'a': 0, 'e': 1, 'i': 1, 'o': 0, 'u': 0}\n"
          ]
        }
      ]
    },
    {
      "cell_type": "markdown",
      "source": [
        "#3) Inverter lista usando while\n",
        "Dada a lista nomes = [\"Ana\", \"João\", \"Carlos\", \"Maria\"], use um while para inverter a ordem dos elementos (sem usar reverse() ou slicing).**negrito**"
      ],
      "metadata": {
        "id": "lapjKFpD5mGW"
      }
    },
    {
      "cell_type": "code",
      "source": [
        "nomes = [\"Ana\", \"João\", \"Carlos\", \"Maria\"]\n",
        "\n",
        "invertida = []\n",
        "i = len(nomes) - 1\n",
        "while i >= 0:\n",
        "    invertida.append(nomes[i])\n",
        "    i -= 1\n",
        "\n",
        "print(invertida)"
      ],
      "metadata": {
        "colab": {
          "base_uri": "https://localhost:8080/"
        },
        "id": "5HE3YNsA5oGX",
        "outputId": "f09c68e1-b331-42fc-903e-726b561b1d6d"
      },
      "execution_count": 39,
      "outputs": [
        {
          "output_type": "stream",
          "name": "stdout",
          "text": [
            "['Maria', 'Carlos', 'João', 'Ana']\n"
          ]
        }
      ]
    },
    {
      "cell_type": "markdown",
      "source": [
        "#4) Maior número em uma lista\n",
        "Escreva um programa que percorra uma lista de inteiros e encontre o maior valor."
      ],
      "metadata": {
        "id": "7h5Hz04b5ssH"
      }
    },
    {
      "cell_type": "code",
      "source": [
        "numeros = [6, 67, 245, 177, 11, 94]\n",
        "\n",
        "e = 0\n",
        "maior = numeros[0]\n",
        "\n",
        "while e < len(numeros):\n",
        "    if numeros[e] > maior:\n",
        "        maior = numeros[e]\n",
        "    e += 1\n",
        "\n",
        "print(\"O maior valor é:\", maior)"
      ],
      "metadata": {
        "colab": {
          "base_uri": "https://localhost:8080/"
        },
        "id": "dOF4ht-N5uqT",
        "outputId": "8b6fd161-8028-4208-b345-df5d1982c2f8"
      },
      "execution_count": 41,
      "outputs": [
        {
          "output_type": "stream",
          "name": "stdout",
          "text": [
            "O maior valor é: 245\n"
          ]
        }
      ]
    },
    {
      "cell_type": "markdown",
      "source": [
        "#5) Remover elementos repetidos de uma lista\n",
        "Usando um for, percorra a lista valores = [1, 2, 2, 3, 4, 4, 5] e crie uma nova lista apenas com elementos únicos."
      ],
      "metadata": {
        "id": "QpuAeHps5vA0"
      }
    },
    {
      "cell_type": "code",
      "source": [
        "valores = [1, 2, 2, 3, 4, 4, 5]\n",
        "unicos = []\n",
        "\n",
        "for numero in valores:\n",
        "  if numero not in unicos:\n",
        "    unicos.append(numero)\n",
        "\n",
        "print(f\"Lista original: {valores}\")\n",
        "print(f\"Lista nova: {unicos}\")"
      ],
      "metadata": {
        "colab": {
          "base_uri": "https://localhost:8080/"
        },
        "id": "MH5TPjqc5xcd",
        "outputId": "2de9c514-1c34-43db-a3f7-7b66ec5728b8"
      },
      "execution_count": 135,
      "outputs": [
        {
          "output_type": "stream",
          "name": "stdout",
          "text": [
            "Lista original: [1, 2, 2, 3, 4, 4, 5]\n",
            "Lista nova: [1, 2, 3, 4, 5]\n"
          ]
        }
      ]
    },
    {
      "cell_type": "markdown",
      "source": [
        "#6) Verificar se palavra é palíndromo\n",
        "Peça uma palavra ao usuário e use while ou for para verificar se ela é igual de frente para trás (ex.: \"arara\").\n"
      ],
      "metadata": {
        "id": "gYQcg_qm5xpj"
      }
    },
    {
      "cell_type": "code",
      "source": [
        "palavra = input(\"Digite uma palavra: \")\n",
        "\n",
        "eh_palindromo = True\n",
        "for e in range(len(palavra) // 2):\n",
        "    if palavra[e] != palavra[-(e+1)]:\n",
        "        eh_palindromo = False\n",
        "        break\n",
        "\n",
        "if eh_palindromo:\n",
        "    print(\"É um palíndromo!\")\n",
        "else:\n",
        "    print(\"Não é um palíndromo.\")"
      ],
      "metadata": {
        "colab": {
          "base_uri": "https://localhost:8080/"
        },
        "id": "UCmqEHwr_W3W",
        "outputId": "62f68d46-5b19-47e4-d1ba-636c8ec2d686"
      },
      "execution_count": 42,
      "outputs": [
        {
          "output_type": "stream",
          "name": "stdout",
          "text": [
            "Digite uma palavra: colar\n",
            "Não é um palíndromo.\n"
          ]
        }
      ]
    },
    {
      "cell_type": "markdown",
      "source": [
        "#7) Contagem regressiva com while\n",
        "\n",
        "Peça ao usuário um número e faça uma contagem regressiva até 0."
      ],
      "metadata": {
        "id": "UtPf8KxK50lV"
      }
    },
    {
      "cell_type": "code",
      "source": [
        "num = int(input(\"Digite um número: \"))\n",
        "\n",
        "for e in range(num, -1, -1):\n",
        "    print(e)"
      ],
      "metadata": {
        "colab": {
          "base_uri": "https://localhost:8080/"
        },
        "id": "ETDRdweG53AH",
        "outputId": "c58054d5-4406-4489-9c1d-170000edbb3c"
      },
      "execution_count": 137,
      "outputs": [
        {
          "output_type": "stream",
          "name": "stdout",
          "text": [
            "Digite um número: 7\n",
            "7\n",
            "6\n",
            "5\n",
            "4\n",
            "3\n",
            "2\n",
            "1\n",
            "0\n"
          ]
        }
      ]
    },
    {
      "cell_type": "markdown",
      "source": [
        "#8) Percorrendo um dicionário de notas\n",
        "Dado o dicionário notas = {\"Ana\": 8, \"Carlos\": 7, \"Maria\": 10}, use um for para exibir cada aluno com sua nota."
      ],
      "metadata": {
        "id": "oUoO5hni53HN"
      }
    },
    {
      "cell_type": "code",
      "source": [
        "notas = {\"Ana\": 8, \"Carlos\": 7, \"Maria\": 10}\n",
        "for aluno in notas:\n",
        "    nota = notas[aluno]\n",
        "    print(f\"{aluno}: {nota}\")"
      ],
      "metadata": {
        "colab": {
          "base_uri": "https://localhost:8080/"
        },
        "id": "ebAoGiAn5537",
        "outputId": "743d1323-6b8e-4db4-aa24-524965fdc197"
      },
      "execution_count": 101,
      "outputs": [
        {
          "output_type": "stream",
          "name": "stdout",
          "text": [
            "Ana: 8\n",
            "Carlos: 7\n",
            "Maria: 10\n"
          ]
        }
      ]
    },
    {
      "cell_type": "markdown",
      "source": [
        "#9)Filtrar números pares de uma lista\n",
        "\n",
        "Dada a lista numeros = [10, 21, 32, 43, 54], use um for para criar uma nova lista contendo apenas os pares."
      ],
      "metadata": {
        "id": "t3nuYCut58Jd"
      }
    },
    {
      "cell_type": "code",
      "source": [
        "numeros = [10, 21, 32, 43, 54]\n",
        "pares = [numero for numero in numeros if numero % 2 == 0]\n",
        "\n",
        "print(pares)"
      ],
      "metadata": {
        "colab": {
          "base_uri": "https://localhost:8080/"
        },
        "id": "K9HDX6ZV6IfR",
        "outputId": "e2f0dfd7-fc54-4ba0-fd46-c4d17d88d515"
      },
      "execution_count": 118,
      "outputs": [
        {
          "output_type": "stream",
          "name": "stdout",
          "text": [
            "[10, 32, 54]\n"
          ]
        }
      ]
    },
    {
      "cell_type": "markdown",
      "source": [
        "#10) Contador de palavras em uma frase\n",
        "Peça ao usuário uma frase, divida em palavras (split()) e use um dicionário para contar quantas vezes cada palavra aparece.\n",
        "Com manipulação de listas, tuplas e dicionários:"
      ],
      "metadata": {
        "id": "mtSSYCpi6InI"
      }
    },
    {
      "cell_type": "code",
      "source": [
        "frase = input(\"Digite uma frase: \")\n",
        "\n",
        "palavras = frase.split()\n",
        "\n",
        "contador = {}\n",
        "\n",
        "for palavra in palavras:\n",
        "    palavra = palavra.lower()\n",
        "    if palavra in contador:\n",
        "        contador[palavra] += 1\n",
        "    else:\n",
        "        contador[palavra] = 1\n",
        "\n",
        "print(\"\\nContagem de palavras:\")\n",
        "for palavra, quantidade in contador.items():\n",
        "    print(f\"'{palavra}': {quantidade} vez(es)\")"
      ],
      "metadata": {
        "colab": {
          "base_uri": "https://localhost:8080/"
        },
        "id": "abgqP_qD6Mip",
        "outputId": "031aea5d-f96b-41c5-82c6-bd9553194a4c"
      },
      "execution_count": 121,
      "outputs": [
        {
          "output_type": "stream",
          "name": "stdout",
          "text": [
            "Digite uma frase: o gato comeu o rato da dona florinda\n",
            "\n",
            "Contagem de palavras:\n",
            "'o': 2 vez(es)\n",
            "'gato': 1 vez(es)\n",
            "'comeu': 1 vez(es)\n",
            "'rato': 1 vez(es)\n",
            "'da': 1 vez(es)\n",
            "'dona': 1 vez(es)\n",
            "'florinda': 1 vez(es)\n"
          ]
        }
      ]
    },
    {
      "cell_type": "markdown",
      "source": [
        "#1) Tuplas - Acesso e Desempacotamento\n",
        "Crie uma tupla contendo três tipos diferentes de dados: um número, uma string e uma lista. Use um laço de repetição para acessar e imprimir cada item da tupla. Além disso, dentro do laço, acesse e imprima o segundo item da lista que está dentro da tupla.\n"
      ],
      "metadata": {
        "id": "P1GId0E76Mpl"
      }
    },
    {
      "cell_type": "code",
      "source": [
        "tupla = (42, \"Python\", [10, 20, 30])\n",
        "\n",
        "for item in tupla:\n",
        "    print(item)\n",
        "    if type(item) == list:\n",
        "        print(item[1])"
      ],
      "metadata": {
        "colab": {
          "base_uri": "https://localhost:8080/"
        },
        "id": "h1vopjP-6SV1",
        "outputId": "d4a3a377-98ea-4276-f3d5-53fc7e03f0db"
      },
      "execution_count": 126,
      "outputs": [
        {
          "output_type": "stream",
          "name": "stdout",
          "text": [
            "42\n",
            "Python\n",
            "[10, 20, 30]\n",
            "20\n"
          ]
        }
      ]
    },
    {
      "cell_type": "markdown",
      "source": [
        "#2) Cadastro de Pessoas e Análise de Alturas\n",
        "Solicite ao usuário para inserir o nome e a altura de várias pessoas. Preencha um dicionário com essas informações e depois encontre e imprima o nome e a altura da pessoa mais alta e da mais baixa.\n"
      ],
      "metadata": {
        "id": "jpLpSIUB6Sbr"
      }
    },
    {
      "cell_type": "code",
      "source": [
        "pessoas = {}\n",
        "\n",
        "while True:\n",
        "    nome = input(\"Digite o nome de tal pessoa ou escreva 'sair' para obter o resultado: \")\n",
        "\n",
        "    if nome.lower() == \"sair\":\n",
        "        break\n",
        "\n",
        "    altura = float(input(f\"Digite a altura de {nome} em metros: \"))\n",
        "\n",
        "    pessoas[nome] = altura\n",
        "\n",
        "if pessoas:\n",
        "    mais_alto = max(pessoas, key=pessoas.get)\n",
        "    mais_baixo = min(pessoas, key=pessoas.get)\n",
        "\n",
        "    print(\"Resultado\")\n",
        "    print(f\"A pessoa mais alta é {mais_alto}, com {pessoas[mais_alto]:.2f} m\")\n",
        "    print(f\"A pessoa mais baixa é {mais_baixo}, com {pessoas[mais_baixo]:.2f} m\")\n",
        "else:\n",
        "    print(\"Nenhuma pessoa cadastrada.\")"
      ],
      "metadata": {
        "id": "9heON7R16VY2"
      },
      "execution_count": null,
      "outputs": []
    },
    {
      "cell_type": "markdown",
      "source": [
        "#3) Lista, laços e Condicionais\n",
        "Descrição: Crie uma listacom cinco números inteiros. Use um laço de repetição e uma condicional para imprimir apenas os números que são múltiplos de 3."
      ],
      "metadata": {
        "id": "Oj0BD0TK6VeZ"
      }
    },
    {
      "cell_type": "code",
      "source": [
        "numeros = []\n",
        "for i in range(5):\n",
        "    numero = int(input(f\"Digite o {i+1}º número inteiro: \"))\n",
        "    numeros.append(numero)\n",
        "\n",
        "print(f\"\\nLista digitada: {numeros}\")\n",
        "print(\"Múltiplos de 3:\")\n",
        "\n",
        "for num in numeros:\n",
        "    if num % 3 == 0:\n",
        "        print(num)"
      ],
      "metadata": {
        "colab": {
          "base_uri": "https://localhost:8080/"
        },
        "id": "PbkCh1hL6XYR",
        "outputId": "340e202d-8788-49fc-b4e0-7da153bd241f"
      },
      "execution_count": 136,
      "outputs": [
        {
          "output_type": "stream",
          "name": "stdout",
          "text": [
            "Digite o 1º número inteiro: 4\n",
            "Digite o 2º número inteiro: 5\n",
            "Digite o 3º número inteiro: 7\n",
            "Digite o 4º número inteiro: 2\n",
            "Digite o 5º número inteiro: 9\n",
            "\n",
            "Lista digitada: [4, 5, 7, 2, 9]\n",
            "Múltiplos de 3:\n",
            "9\n"
          ]
        }
      ]
    },
    {
      "cell_type": "markdown",
      "source": [
        "#4) Manipulação de Strings e Condicionais\n",
        "Descrição: Crie uma string com uma frase. Use uma condicional para verificar se a frase contém a palavra \"Python\". Se sim, substitua a palavra \"Python\" por \"programação\" e imprima a nova frase."
      ],
      "metadata": {
        "id": "A7UXb4_D6Xdv"
      }
    },
    {
      "cell_type": "code",
      "source": [
        "frase = input(\"Digite uma frase: \")\n",
        "\n",
        "if \"python\" in frase.lower():\n",
        "    print(\"Sua frase contém 'Python'!\")\n",
        "    print(f\"Frase original: {frase}\")\n",
        "else:\n",
        "    print(\"Sua frase NÃO contém 'Python'!\")\n",
        "    print(f\"Frase original: {frase}\")\n",
        "\n",
        "nova_frase = frase.replace(\"Python\", \"Programação\")\n",
        "nova_frase = nova_frase.replace(\"python\", \"programação\")\n",
        "print(f\"Frase modificada: {nova_frase}\")\n"
      ],
      "metadata": {
        "colab": {
          "base_uri": "https://localhost:8080/"
        },
        "id": "4eXhvoU_6aUY",
        "outputId": "1ffb47c9-8b6c-4349-c7fd-7901bd41771a"
      },
      "execution_count": 38,
      "outputs": [
        {
          "output_type": "stream",
          "name": "stdout",
          "text": [
            "Digite uma frase: Python é uma área que garante os melhores empregos.\n",
            "Sua frase contém 'Python'!\n",
            "Frase original: Python é uma área que garante os melhores empregos.\n",
            "Frase modificada: Programação é uma área que garante os melhores empregos.\n"
          ]
        }
      ]
    },
    {
      "cell_type": "markdown",
      "source": [
        "#5) Simulação de Alfândega com Cadastro Dinâmico de Itens usando dicionário\n",
        "Simule uma situação de alfândega onde o funcionário cadastra itens novos encontrados na mala de uma pessoa que veio de uma viagem internacional. Após o cadastro de todos os itens, o programa imprime uma nota com todos os itens e seus preços, calcula o valor total e, se o valor total ultrapassar 500 dólares, calcula o valor de 60% a ser pago."
      ],
      "metadata": {
        "id": "9wx2jMcg6avc"
      }
    },
    {
      "cell_type": "code",
      "source": [
        "itens = {}\n",
        "\n",
        "while True:\n",
        "    nome = input(\"Digite o nome do item ou 'sair' para encerrar: \")\n",
        "\n",
        "    if nome.lower() == \"sair\":\n",
        "        break\n",
        "\n",
        "    preco = float(input(f\"Digite o preço do item {nome} em dólares: \"))\n",
        "    itens[nome] = preco\n",
        "\n",
        "print(\"\\nNota da alfândega\")\n",
        "\n",
        "total = 0\n",
        "\n",
        "for nome, preco in itens.items():\n",
        "    print(f\"{nome}: ${preco:.2f}\")\n",
        "    total += preco\n",
        "\n",
        "print(f\"\\nValor total: ${total:.2f}\")\n",
        "\n",
        "if total > 500:\n",
        "    imposto = total * 0.60\n",
        "    print(f\"Como o valor ultrapassa 500, será cobrado um imposto de ${imposto:.2f}\")\n",
        "else:\n",
        "    print(\"Não há imposto a pagar, pois o valor não ultrapassou $500.\")"
      ],
      "metadata": {
        "colab": {
          "base_uri": "https://localhost:8080/"
        },
        "id": "yn0dAvoa6dfh",
        "outputId": "773e3d4e-c7de-426f-e170-f389897b989a"
      },
      "execution_count": 27,
      "outputs": [
        {
          "output_type": "stream",
          "name": "stdout",
          "text": [
            "Digite o nome do item ou 'sair' para encerrar: Celular\n",
            "Digite o preço do item Celular em dólares: 300\n",
            "Digite o nome do item ou 'sair' para encerrar: TV\n",
            "Digite o preço do item TV em dólares: 1500\n",
            "Digite o nome do item ou 'sair' para encerrar: sair\n",
            "\n",
            "Nota da alfândega\n",
            "Celular: $300.00\n",
            "TV: $1500.00\n",
            "\n",
            "Valor total: $1800.00\n",
            "Como o valor ultrapassa 500, será cobrado um imposto de $1080.00\n"
          ]
        }
      ]
    },
    {
      "cell_type": "markdown",
      "source": [
        "#6) Identificação de Palavras Negativas em um Texto\n",
        "Você vai criar um programa em Python para analisar um texto e identificar palavras que expressam pensamentos negativos. Para isso, você usará uma lista de palavras negativas fornecida e verificará quais dessas palavras estão presentes no texto fornecido pelo usuário. Exemplo de palavras negtivas, acrescente mais na lista: # Lista de palavras negativas palavras_negativas = ['triste', 'deprimido', 'ansioso', 'desapontado', 'frustrado']"
      ],
      "metadata": {
        "id": "BslCLHh16dky"
      }
    },
    {
      "cell_type": "code",
      "source": [
        "palavras_negativas = [\n",
        "    'triste', 'deprimido', 'ansioso', 'desapontado', 'frustrado',\n",
        "    'cansado', 'inseguro', 'raiva', 'ódio', 'estressado',\n",
        "    'infeliz', 'desanimado', 'solitário', 'abatido'\n",
        "]\n",
        "\n",
        "texto = input(\"Cole um texto para análise: \").lower()\n",
        "\n",
        "encontradas = []\n",
        "\n",
        "for palavra in palavras_negativas:\n",
        "    if palavra in texto:\n",
        "        encontradas.append(palavra)\n",
        "\n",
        "if encontradas:\n",
        "    print(\"\\nPalavras negativas encontradas no texto:\")\n",
        "    for e in encontradas:\n",
        "        print(\"-\", e)\n",
        "else:\n",
        "    print(\"\\nNenhuma palavra negativa foi encontrada no texto.\")\n"
      ],
      "metadata": {
        "colab": {
          "base_uri": "https://localhost:8080/"
        },
        "id": "4VZg6J1-6ots",
        "outputId": "167bb9d6-4cd4-4ad9-ef0b-f54928ae4b34"
      },
      "execution_count": 26,
      "outputs": [
        {
          "output_type": "stream",
          "name": "stdout",
          "text": [
            "Cole um texto para análise: Conrad esteve deprimido pela manha. Suspeito que seja pela raiva que ainda sente por voce.\n",
            "\n",
            "Palavras negativas encontradas no texto:\n",
            "- deprimido\n",
            "- raiva\n"
          ]
        }
      ]
    }
  ]
}