{
 "cells": [
  {
   "cell_type": "code",
   "execution_count": 99,
   "id": "0ad57882-0d15-4c8e-84d9-9029d37a80cc",
   "metadata": {},
   "outputs": [
    {
     "name": "stdin",
     "output_type": "stream",
     "text": [
      "Digite o dia do mês:  1\n"
     ]
    },
    {
     "name": "stdout",
     "output_type": "stream",
     "text": [
      "O dia 1 indica a fase Lua Nova.\n"
     ]
    }
   ],
   "source": [
    "#entrada\n",
    "LN = {1, 2, 3, 4, 5, 6, 7}\n",
    "\n",
    "QC = {8, 9, 10, 11, 12, 13, 14}\n",
    "\n",
    "LC = {15, 16, 17, 18, 19, 20, 21}\n",
    "\n",
    "QM = {22, 23, 24, 25, 26, 27, 28, 29}\n",
    "\n",
    "IN = {30, 31}\n",
    "\n",
    "\n",
    "#processamento\n",
    "\n",
    "num = int(input(\"Digite o dia do mês: \"))\n",
    "\n",
    "if num in LN:\n",
    "    print(f\"O dia {num} indica a fase Lua Nova.\")\n",
    "elif num in QC:\n",
    "    print(f\"O dia {num} indica a fase Quarto Crescente.\")\n",
    "if num in LC:\n",
    "    print(f\"O dia {num} indica a fase Lua Cheia.\")\n",
    "elif num in QM:\n",
    "    print(f\"O dia {num} indica a fase Quarto Minguante.\")\n",
    "elif num in IN:\n",
    "    print(f\"O dia {num} indica o início de um novo ciclo lunar.\")\n"
   ]
  },
  {
   "cell_type": "code",
   "execution_count": 107,
   "id": "7d57f776-e466-45f4-ad91-6016d0e3e620",
   "metadata": {},
   "outputs": [
    {
     "name": "stdin",
     "output_type": "stream",
     "text": [
      "Escolha uma classe entre mago, guerreiro ou arqueiro:  mago\n",
      "Indique a quantidade de energia:  67\n"
     ]
    },
    {
     "name": "stdout",
     "output_type": "stream",
     "text": [
      "Sua classe é: Mago.\n",
      "Você tem 67.0/100 de energia.\n",
      "O seu dano base é: 100.5\n"
     ]
    }
   ],
   "source": [
    "#entrada\n",
    "\n",
    "mago = \"mago\"\n",
    "guerreiro = \"guerreiro\"\n",
    "arqueiro = \"arqueiro\"\n",
    "choice =str (input(\"Escolha uma classe entre mago, guerreiro ou arqueiro: \"))\n",
    "vida = float (input(\"Indique a quantidade de energia: \"))\n",
    "\n",
    "#processamento\n",
    "\n",
    "if vida<0 and vida>100:\n",
    "    print(\"Energia inserida inválida. Digite um valor de 0 a 100.\")\n",
    "if choice!=mago and choice!=guerreiro and choice!=arqueiro:\n",
    "    print(\"Esta classe é inválida!\")\n",
    "    print(\"Escolha uma classe entre mago, guerreiro ou arqueiro.\")\n",
    "\n",
    "if choice==mago and vida<60:\n",
    "    print(\"Você não pode entrar na batalha, a energia não é suficiente.\")\n",
    "    print(\"Selecione novamente.\")\n",
    "if choice==guerreiro and vida<40:\n",
    "    print(\"Você não pode entrar na batalha, a energia não é suficiente.\")\n",
    "    print(\"Selecione novamente\")\n",
    "if choice==arqueiro and vida<50:\n",
    "    print(\"Você não pode entrar na batalha, a energia não é suficiente.\")\n",
    "    print(\"Selecione novamente.\")\n",
    "\n",
    "if choice==mago:\n",
    "    dano = vida*1.5\n",
    "    print(\"Sua classe é: Mago.\")\n",
    "    print(f\"Você tem {vida}/100 de energia.\")\n",
    "    print(f\"O seu dano base é: {dano}\")\n",
    "elif choice==guerreiro:\n",
    "    dano = vida*2\n",
    "    print(\"Sua classe é: Guerreiro.\")\n",
    "    print(f\"Você tem {vida}/100 de energia.\")\n",
    "    print(f\"O seu dano base é: {dano}\")\n",
    "elif choice==arqueiro:\n",
    "    dano = vida*1.2\n",
    "    print(\"Sua classe é: Arqueiro.\")\n",
    "    print(f\"Você tem {vida}/100 de energia.\")\n",
    "    print(f\"O seu dano base é: {dano}\")"
   ]
  }
 ],
 "metadata": {
  "kernelspec": {
   "display_name": "Python 3 (ipykernel)",
   "language": "python",
   "name": "python3"
  },
  "language_info": {
   "codemirror_mode": {
    "name": "ipython",
    "version": 3
   },
   "file_extension": ".py",
   "mimetype": "text/x-python",
   "name": "python",
   "nbconvert_exporter": "python",
   "pygments_lexer": "ipython3",
   "version": "3.11.4"
  }
 },
 "nbformat": 4,
 "nbformat_minor": 5
}
