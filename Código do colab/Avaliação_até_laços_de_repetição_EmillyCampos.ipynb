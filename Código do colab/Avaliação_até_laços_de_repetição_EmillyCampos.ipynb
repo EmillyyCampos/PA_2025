{
 "cells": [
  {
   "cell_type": "markdown",
   "metadata": {
    "id": "oncsAo0QKXM4"
   },
   "source": [
    "Emilly Jaquelini Campos de Oliveira"
   ]
  },
  {
   "cell_type": "markdown",
   "metadata": {
    "id": "2Wtw01VyHzBQ"
   },
   "source": [
    "1)Crie um programa em python que imprima números pares\n",
    "\n",
    "a) Pedir o usuário para digitar uma lista com mínimo 10 números\n",
    "\n",
    "b) Criar uma nova somente com numeros pares\n",
    "\n",
    "c) Imprimir números pares"
   ]
  },
  {
   "cell_type": "code",
   "execution_count": 32,
   "metadata": {},
   "outputs": [
    {
     "name": "stdin",
     "output_type": "stream",
     "text": [
      "Digite no minimo dez numeros:  1\n",
      "Digite no minimo dez numeros:  2\n"
     ]
    },
    {
     "name": "stdout",
     "output_type": "stream",
     "text": [
      "[2]\n"
     ]
    },
    {
     "name": "stdin",
     "output_type": "stream",
     "text": [
      "Digite no minimo dez numeros:  3\n",
      "Digite no minimo dez numeros:  4\n"
     ]
    },
    {
     "name": "stdout",
     "output_type": "stream",
     "text": [
      "[2, 4]\n"
     ]
    },
    {
     "name": "stdin",
     "output_type": "stream",
     "text": [
      "Digite no minimo dez numeros:  5\n",
      "Digite no minimo dez numeros:  6\n"
     ]
    },
    {
     "name": "stdout",
     "output_type": "stream",
     "text": [
      "[2, 4, 6]\n"
     ]
    },
    {
     "name": "stdin",
     "output_type": "stream",
     "text": [
      "Digite no minimo dez numeros:  7\n",
      "Digite no minimo dez numeros:  8\n"
     ]
    },
    {
     "name": "stdout",
     "output_type": "stream",
     "text": [
      "[2, 4, 6, 8]\n"
     ]
    },
    {
     "name": "stdin",
     "output_type": "stream",
     "text": [
      "Digite no minimo dez numeros:  9\n",
      "Digite no minimo dez numeros:  10\n"
     ]
    },
    {
     "name": "stdout",
     "output_type": "stream",
     "text": [
      "[2, 4, 6, 8, 10]\n"
     ]
    }
   ],
   "source": [
    "pares = []\n",
    "\n",
    "for e in range (10):\n",
    "    numeros = int(input(\"Digite no minimo dez numeros: \"))\n",
    "    if numeros % 2 == 0:\n",
    "        pares.append(numeros)\n",
    "        print(pares)"
   ]
  },
  {
   "cell_type": "markdown",
   "metadata": {
    "id": "bBYPSr8JHpUA"
   },
   "source": [
    "2)Crie um programa que conte quantas vezes cada palavra aparece em uma frase.\n",
    "\n",
    "Pedir ao usuário para digitar uma frase. Imprimir a palavra e quantas vezes ela aparece"
   ]
  },
  {
   "cell_type": "code",
   "execution_count": 75,
   "metadata": {
    "id": "dQLlv-lPKPT4"
   },
   "outputs": [
    {
     "name": "stdin",
     "output_type": "stream",
     "text": [
      "Digite uma frase:  eu amo você, eu amo ele, eu amo ela\n"
     ]
    },
    {
     "name": "stdout",
     "output_type": "stream",
     "text": [
      "A contagem das palavras é: \n",
      "eu :3\n",
      "amo :3\n",
      "você, :1\n",
      "ele, :1\n",
      "ela :1\n"
     ]
    }
   ],
   "source": [
    "frase = input(\"Digite uma frase: \").lower()\n",
    "palavras = frase.split()\n",
    "contador = {}\n",
    "\n",
    "for pala in palavras:\n",
    "    if pala in contador:\n",
    "         contador[pala]+=1\n",
    "    else:\n",
    "         contador[pala]=1\n",
    "print(\"A contagem das palavras é: \")\n",
    "for pala, qtd in contador.items():\n",
    "    print(f\"{pala} :{qtd}\")"
   ]
  },
  {
   "cell_type": "markdown",
   "metadata": {
    "id": "bbWz0aL2HjP3"
   },
   "source": [
    "3)Crie um programa em Python para avaliar um desfile de candidatas. O programa deve:\n",
    "\n",
    "a) Perguntar quantas candidatas vão participar.\n",
    "\n",
    "b) Perguntar o nome de cada candidata.\n",
    "\n",
    "c) Para cada candidata, receber 3 notas (uma de cada jurado).\n",
    "\n",
    "d) Somar as notas e guardar o total em um dicionário, onde a chave é o nome da candidata e o valor é a soma das notas.\n",
    "\n",
    "Mostrar ao final:\n",
    "\n",
    "a) A pontuação total de cada candidata.\n",
    "\n",
    "b) O nome da vencedora (a que tiver a maior pontuação)."
   ]
  },
  {
   "cell_type": "code",
   "execution_count": 74,
   "metadata": {
    "id": "wrhGujbvHebJ"
   },
   "outputs": [
    {
     "name": "stdin",
     "output_type": "stream",
     "text": [
      "Digite quantas candidatas do desfile irão participar:  2\n",
      "\n",
      "Digite o nome da 1 candidata: bea\n",
      "Digite a nota da banca de jurados 1 para bea: 8\n",
      "Digite a nota da banca de jurados 2 para bea: 7\n",
      "Digite a nota da banca de jurados 3 para bea: 9\n",
      "\n",
      "Digite o nome da 2 candidata: elo\n",
      "Digite a nota da banca de jurados 1 para elo: 8\n",
      "Digite a nota da banca de jurados 2 para elo: 10\n",
      "Digite a nota da banca de jurados 3 para elo: 5\n"
     ]
    },
    {
     "name": "stdout",
     "output_type": "stream",
     "text": [
      "\n",
      "O resultado é: \n",
      "bea = 24.0 pontos\n",
      "elo = 23.0 pontos\n",
      "A vencedora do desfile é: bea, com 24.0 pontos.\n"
     ]
    }
   ],
   "source": [
    "qtd = int(input(\"Digite quantas candidatas do desfile irão participar: \"))         \n",
    "notas = {}\n",
    "\n",
    "for e in range(qtd):\n",
    "    nome = input(f\"\\nDigite o nome da {e+1} candidata:\")\n",
    "    total = 0\n",
    "\n",
    "    for r in range(3):\n",
    "        nota = float(input(f\"Digite a nota da banca de jurados {r+1} para {nome}:\"))\n",
    "        total += nota\n",
    "        \n",
    "        notas [nome] = total\n",
    "\n",
    "print(\"\\nO resultado é: \")\n",
    "\n",
    "for candidata, ponto in notas.items():\n",
    "    print(f\"{candidata} = {ponto} pontos\")\n",
    "\n",
    "vencedora = max(notas, key=notas.get)\n",
    "print(f\"A vencedora do desfile é: {vencedora}, com {notas[vencedora]} pontos.\")"
   ]
  }
 ],
 "metadata": {
  "colab": {
   "provenance": []
  },
  "kernelspec": {
   "display_name": "Python 3 (ipykernel)",
   "language": "python",
   "name": "python3"
  },
  "language_info": {
   "codemirror_mode": {
    "name": "ipython",
    "version": 3
   },
   "file_extension": ".py",
   "mimetype": "text/x-python",
   "name": "python",
   "nbconvert_exporter": "python",
   "pygments_lexer": "ipython3",
   "version": "3.11.4"
  }
 },
 "nbformat": 4,
 "nbformat_minor": 4
}
