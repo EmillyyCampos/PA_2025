{
  "cells": [
    {
      "cell_type": "markdown",
      "metadata": {
        "id": "view-in-github",
        "colab_type": "text"
      },
      "source": [
        "<a href=\"https://colab.research.google.com/github/EmillyyCampos/PA_2025/blob/main/C%C3%B3digo%20do%20Colab/C%C3%B3pia_de_exercicios_loops_strings_dicionarios_05_09.ipynb\" target=\"_parent\"><img src=\"https://colab.research.google.com/assets/colab-badge.svg\" alt=\"Open In Colab\"/></a>"
      ]
    },
    {
      "cell_type": "markdown",
      "id": "50e41763",
      "metadata": {
        "id": "50e41763"
      },
      "source": [
        "# Lista de Exercícios - Python (Loops, Strings e Dicionários)\n",
        "Este notebook contém 15 exercícios para praticar `for`, `while`, manipulação de **strings** e **dicionários`."
      ]
    },
    {
      "cell_type": "markdown",
      "id": "6c5e8da0",
      "metadata": {
        "id": "6c5e8da0"
      },
      "source": [
        "### 1. **Contagem de vogais**: Peça uma palavra e conte quantas vezes cada vogal aparece (usar `for` ou `while`)."
      ]
    },
    {
      "cell_type": "code",
      "source": [
        "palavra = input(\"Digite uma palavra: \").lower()\n",
        "vogais = \"aeiou\"\n",
        "contagem = {v: 0 for v in vogais}\n",
        "for letra in palavra:\n",
        "  if letra in vogais:\n",
        "    contagem[letra] += 1\n",
        "print(contagem)"
      ],
      "metadata": {
        "colab": {
          "base_uri": "https://localhost:8080/"
        },
        "id": "xorOSct8Ar_y",
        "outputId": "a900b10c-e534-45d2-e1b6-1913602e4382"
      },
      "id": "xorOSct8Ar_y",
      "execution_count": 1,
      "outputs": [
        {
          "output_type": "stream",
          "name": "stdout",
          "text": [
            "Digite uma palavra: afonsinha\n",
            "{'a': 2, 'e': 0, 'i': 1, 'o': 1, 'u': 0}\n"
          ]
        }
      ]
    },
    {
      "cell_type": "markdown",
      "id": "2446d942",
      "metadata": {
        "id": "2446d942"
      },
      "source": [
        "### 2. **Inversão de string**: Solicite uma frase e mostre-a invertida **sem usar slicing** (`[::-1]` não vale). Use `while`."
      ]
    },
    {
      "cell_type": "code",
      "execution_count": null,
      "id": "4bd947d4",
      "metadata": {
        "id": "4bd947d4",
        "colab": {
          "base_uri": "https://localhost:8080/"
        },
        "outputId": "cf95edd9-221b-42a3-dac0-ad7b55dd1eae"
      },
      "outputs": [
        {
          "output_type": "stream",
          "name": "stdout",
          "text": [
            "Digite uma frase: macaco prego\n",
            "invertida: ogerp ocacam\n"
          ]
        }
      ],
      "source": [
        "frase = input(\"Digite uma frase: \")\n",
        "invertida = \"\"\n",
        "e = len(frase) - 1\n",
        "while e >= 0:\n",
        "  invertida += frase[e]\n",
        "  e -= 1\n",
        "print(\"invertida:\", invertida)"
      ]
    },
    {
      "cell_type": "markdown",
      "id": "096a5b5d",
      "metadata": {
        "id": "096a5b5d"
      },
      "source": [
        "### 3. **Frequência de caracteres**: Dada uma string, crie um dicionário que mostre quantas vezes cada caractere aparece."
      ]
    },
    {
      "cell_type": "code",
      "execution_count": 6,
      "id": "bd28dd49",
      "metadata": {
        "id": "bd28dd49",
        "colab": {
          "base_uri": "https://localhost:8080/"
        },
        "outputId": "18897cd5-2107-487c-f85d-770f033f3634"
      },
      "outputs": [
        {
          "output_type": "stream",
          "name": "stdout",
          "text": [
            "Digite uma string: maça\n",
            "{'m': 1, 'a': 2, 'ç': 1}\n"
          ]
        }
      ],
      "source": [
        "texto = input(\"Digite uma string: \")\n",
        "freqq = {}\n",
        "for e in texto:\n",
        "  freqq[e] = freqq.get(e, 0) + 1\n",
        "print(freqq)"
      ]
    },
    {
      "cell_type": "markdown",
      "id": "d046cc57",
      "metadata": {
        "id": "d046cc57"
      },
      "source": [
        "### 4. **Palavras únicas**: Peça uma frase e mostre as palavras que aparecem **apenas uma vez**."
      ]
    },
    {
      "cell_type": "code",
      "execution_count": 5,
      "id": "092bef79",
      "metadata": {
        "id": "092bef79",
        "colab": {
          "base_uri": "https://localhost:8080/"
        },
        "outputId": "6a639407-2a67-42a9-c520-c5f8de24d1d9"
      },
      "outputs": [
        {
          "output_type": "stream",
          "name": "stdout",
          "text": [
            "Digite uma frase: julia e beatriz e emilly\n",
            "julia\n",
            "beatriz\n",
            "emilly\n"
          ]
        }
      ],
      "source": [
        "frase = input(\"Digite uma frase: \").split()\n",
        "for palavra in frase:\n",
        "  if frase.count(palavra) == 1:\n",
        "    print(palavra)"
      ]
    },
    {
      "cell_type": "markdown",
      "id": "3ea99323",
      "metadata": {
        "id": "3ea99323"
      },
      "source": [
        "### 5. **Substituição manual**: Peça uma string e duas letras: substitua **manualmente** todas as ocorrências da primeira letra pela segunda, usando laço."
      ]
    },
    {
      "cell_type": "code",
      "execution_count": 4,
      "id": "4d1406be",
      "metadata": {
        "id": "4d1406be",
        "colab": {
          "base_uri": "https://localhost:8080/"
        },
        "outputId": "5d16b417-e0fc-4b40-be9d-8aee8bcd1de6"
      },
      "outputs": [
        {
          "output_type": "stream",
          "name": "stdout",
          "text": [
            "Digite uma string : julia\n",
            "letra a substituir: u\n",
            "letra nova: e\n",
            "jelia\n"
          ]
        }
      ],
      "source": [
        "texto = input(\"Digite uma string : \")\n",
        "a = input(\"letra a substituir: \")\n",
        "b = input(\"letra nova: \")\n",
        "resultado = \"\"\n",
        "for letra in texto:\n",
        "  if letra == a:\n",
        "    resultado += b\n",
        "  else:\n",
        "      resultado += letra\n",
        "print(resultado)"
      ]
    },
    {
      "cell_type": "markdown",
      "id": "870e9e64",
      "metadata": {
        "id": "870e9e64"
      },
      "source": [
        "### 6. **Palíndromo**: Verifique se uma palavra é um **palíndromo** sem usar funções prontas de reversão."
      ]
    },
    {
      "cell_type": "code",
      "execution_count": null,
      "id": "87824151",
      "metadata": {
        "id": "87824151",
        "colab": {
          "base_uri": "https://localhost:8080/"
        },
        "outputId": "8a7b3962-54b8-4c06-8394-1acc8e70e269"
      },
      "outputs": [
        {
          "output_type": "stream",
          "name": "stdout",
          "text": [
            "Digite uma palavra: ovo\n",
            "é palíndromo\n"
          ]
        }
      ],
      "source": [
        "palavra = input(\"Digite uma palavra: \")\n",
        "inversa = \"\"\n",
        "for letra in palavra:\n",
        "  inversa = letra + inversa\n",
        "if inversa == palavra:\n",
        "    print(\"é palíndromo\")\n",
        "else:\n",
        "    print(\"não é palíndromo\")"
      ]
    },
    {
      "cell_type": "markdown",
      "id": "ce1b0e1f",
      "metadata": {
        "id": "ce1b0e1f"
      },
      "source": [
        "### 7. **Enigma da senha**: Peça uma string e crie uma nova palavra pegando apenas as letras nas **posições ímpares**."
      ]
    },
    {
      "cell_type": "code",
      "execution_count": null,
      "id": "9fc744d2",
      "metadata": {
        "id": "9fc744d2",
        "colab": {
          "base_uri": "https://localhost:8080/"
        },
        "outputId": "2a6771c5-0461-465e-c9df-313833be239c"
      },
      "outputs": [
        {
          "output_type": "stream",
          "name": "stdout",
          "text": [
            "Digite uma string: briga\n",
            "Senha: rg\n"
          ]
        }
      ],
      "source": [
        "texto = input(\"Digite uma string: \")\n",
        "senha = \"\"\n",
        "for e in range(len(texto)):\n",
        "  if e % 2 != 0:\n",
        "    senha += texto[e]\n",
        "print(\"Senha:\", senha)"
      ]
    },
    {
      "cell_type": "markdown",
      "id": "42fe1350",
      "metadata": {
        "id": "42fe1350"
      },
      "source": [
        "### 8. **Expansão de abreviações**: Dado um dicionário de abreviações, substitua manualmente cada ocorrência em uma frase.\n",
        "\n",
        "(Ex: (vc: você, blz: beleza ..."
      ]
    },
    {
      "cell_type": "code",
      "execution_count": 2,
      "id": "e63acd2a",
      "metadata": {
        "id": "e63acd2a",
        "colab": {
          "base_uri": "https://localhost:8080/"
        },
        "outputId": "d3cd9e66-68a4-49ed-cd22-b6f6c9764d3f"
      },
      "outputs": [
        {
          "output_type": "stream",
          "name": "stdout",
          "text": [
            "Digite uma frase: vc merece\n",
            "você merece\n"
          ]
        }
      ],
      "source": [
        "abreviacoes = {\"vc\": \"você\", \"pq\": \"porque\", \"tb\": \"também\"}\n",
        "frase = input(\"Digite uma frase: \").split()\n",
        "nova = []\n",
        "for palavra in frase:\n",
        "  nova.append(abreviacoes.get(palavra, palavra))\n",
        "print(\" \".join(nova))"
      ]
    },
    {
      "cell_type": "markdown",
      "id": "3cf96a02",
      "metadata": {
        "id": "3cf96a02"
      },
      "source": [
        "### 9. **Criptografia simples**: Implemente uma cifra de substituição onde cada letra é trocada pela **próxima no alfabeto** (z → a)."
      ]
    },
    {
      "cell_type": "code",
      "execution_count": null,
      "id": "c8a0d724",
      "metadata": {
        "id": "c8a0d724",
        "colab": {
          "base_uri": "https://localhost:8080/"
        },
        "outputId": "2b18ed94-59cf-472c-889a-c6b73d484891"
      },
      "outputs": [
        {
          "output_type": "stream",
          "name": "stdout",
          "text": [
            "Digite uma palavra: amor\n",
            "bnps\n"
          ]
        }
      ],
      "source": [
        "texto = input(\"Digite uma palavra: \").lower()\n",
        "cifra = \"abcdefghijklmnopqrstuvwxyz\"\n",
        "cifrada = \"bcdefghijklmnopqrstuvwxyza\"\n",
        "resultado = \"\"\n",
        "for letra in texto:\n",
        "    if letra in cifra:\n",
        "     resultado += cifrada[cifra.index(letra)]\n",
        "    else:\n",
        "      resultado += letra\n",
        "print(resultado)"
      ]
    },
    {
      "cell_type": "markdown",
      "id": "4897443b",
      "metadata": {
        "id": "4897443b"
      },
      "source": [
        "### 10. **Anagrama**: Verifique se duas palavras são **anagramas**, usando dicionário para contar ocorrências."
      ]
    },
    {
      "cell_type": "code",
      "execution_count": 3,
      "id": "4c53848e",
      "metadata": {
        "id": "4c53848e",
        "colab": {
          "base_uri": "https://localhost:8080/"
        },
        "outputId": "867450f9-2e88-4e70-8d4c-603b3396e1d9"
      },
      "outputs": [
        {
          "output_type": "stream",
          "name": "stdout",
          "text": [
            "Digite uma frase: emilly\n",
            "Digite outra frase: beatriz\n",
            "Não é Anagrama.\n",
            "{'e': 1, 'm': 1, 'i': 1, 'l': 2, 'y': 1}\n",
            "{'z': 1}\n"
          ]
        }
      ],
      "source": [
        "frase = str(input(\"Digite uma frase: \"))\n",
        "frase2 = str(input(\"Digite outra frase: \"))\n",
        "contagem = {}\n",
        "contagem2 = {}\n",
        "for letra in frase:\n",
        "  if letra in contagem:\n",
        "    contagem[letra] += 1\n",
        "  else:\n",
        "      contagem[letra] = 1\n",
        "for letra in frase2:\n",
        "  if letra in contagem2:\n",
        "    contagem2[letra] += 1\n",
        "else:\n",
        "  contagem2[letra] = 1\n",
        "  if contagem == contagem2:\n",
        "    print(\"É Anagrama.\")\n",
        "    print(contagem)\n",
        "    print(contagem2)\n",
        "  else:\n",
        "    print(\"Não é Anagrama.\")\n",
        "    print(contagem)\n",
        "    print(contagem2)"
      ]
    }
  ],
  "metadata": {
    "colab": {
      "provenance": [],
      "include_colab_link": true
    },
    "language_info": {
      "name": "python"
    },
    "kernelspec": {
      "name": "python3",
      "display_name": "Python 3"
    }
  },
  "nbformat": 4,
  "nbformat_minor": 5
}