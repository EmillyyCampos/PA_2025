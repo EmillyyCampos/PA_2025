{
  "nbformat": 4,
  "nbformat_minor": 0,
  "metadata": {
    "colab": {
      "provenance": [],
      "authorship_tag": "ABX9TyNMUfKN0UCaIk/LOU4jVGBw",
      "include_colab_link": true
    },
    "kernelspec": {
      "name": "python3",
      "display_name": "Python 3"
    },
    "language_info": {
      "name": "python"
    }
  },
  "cells": [
    {
      "cell_type": "markdown",
      "metadata": {
        "id": "view-in-github",
        "colab_type": "text"
      },
      "source": [
        "<a href=\"https://colab.research.google.com/github/EmillyyCampos/PA_2025/blob/main/Funcoes24_10.ipynb\" target=\"_parent\"><img src=\"https://colab.research.google.com/assets/colab-badge.svg\" alt=\"Open In Colab\"/></a>"
      ]
    },
    {
      "cell_type": "markdown",
      "source": [
        "#***Exercícios Extras – Praticando Funções em Python***"
      ],
      "metadata": {
        "id": "YXk2u8eEAdNb"
      }
    },
    {
      "cell_type": "markdown",
      "source": [
        "1. **Mensagem de Boas-vindas**\n",
        "\n",
        "Crie uma função chamada saudacao que não recebe parâmetros e simplesmente imprime na tela a mensagem que você escolher.\n",
        "\n",
        "Nome da Função: boas_vindas(), escolha a saudação\n",
        "\n",
        "Esta é a forma mais simples: uma função que executa uma ação (impressão) sem precisar de dados externos ou retornar um resultado.\n",
        "\n",
        "Dica: esse tipo de função é “sem parâmetro e sem retorno”."
      ],
      "metadata": {
        "id": "55s9SyWXBy2Z"
      }
    },
    {
      "cell_type": "code",
      "source": [
        "def boas_vindas():\n",
        "    print(\"Olá! Seja muito bem vindo(a) a Etec!\")"
      ],
      "metadata": {
        "id": "aGTowqb-AdRV"
      },
      "execution_count": 3,
      "outputs": []
    },
    {
      "cell_type": "code",
      "source": [
        "boas_vindas()"
      ],
      "metadata": {
        "colab": {
          "base_uri": "https://localhost:8080/"
        },
        "id": "-07T8l4GB2hj",
        "outputId": "93afc640-9301-41fe-b663-971071af25aa"
      },
      "execution_count": 4,
      "outputs": [
        {
          "output_type": "stream",
          "name": "stdout",
          "text": [
            "Olá! Seja muito bem vindo(a) a Etec!\n"
          ]
        }
      ]
    },
    {
      "cell_type": "markdown",
      "source": [
        "2. **Conversor de Temperatura**\n",
        "\n",
        "Crie uma função chamada celsius_para_fahrenheit que recebe uma temperatura em Celsius (\n",
        ") e retorna a temperatura equivalente em Fahrenheit (\n",
        ").\n",
        "\n",
        "                           \n",
        "\n",
        "Lembre-se de converter a fração para decimal para garantir o cálculo correto e usar o return para devolver o valor."
      ],
      "metadata": {
        "id": "0_n36VxrCAXu"
      }
    },
    {
      "cell_type": "code",
      "source": [
        "def Celsius_to_fahrenheit(C):\n",
        "    F = (C * 9/5) + 32\n",
        "    return F"
      ],
      "metadata": {
        "id": "JmdEgi6BCsME"
      },
      "execution_count": 5,
      "outputs": []
    },
    {
      "cell_type": "code",
      "source": [
        "Celsius = int(input(\"Digite a temperatura em Celsius: \"))\n",
        "Fahrenheit = Celsius_to_fahrenheit(Celsius)\n",
        "print(f\"{Celsius}°C equivalem a {Fahrenheit}°F\")"
      ],
      "metadata": {
        "colab": {
          "base_uri": "https://localhost:8080/"
        },
        "id": "oBspsezUDcbR",
        "outputId": "b52f15b1-71df-4c22-cb12-b4e71292696d"
      },
      "execution_count": 6,
      "outputs": [
        {
          "output_type": "stream",
          "name": "stdout",
          "text": [
            "Digite a temperatura em Celsius: 23\n",
            "23°C equivalem a 73.4°F\n"
          ]
        }
      ]
    },
    {
      "cell_type": "markdown",
      "source": [
        "3. **Mensagem Personalizada**\n",
        "\n",
        "Crie uma função chamada boas_vindas_personalizada que recebe um parâmetro nome (string) e imprime uma mensagem de boas-vindas usando esse nome (Ex: \"Olá, [Nome]! Seja bem-vindo.\").\n",
        "\n",
        "Esta função recebe um parâmetro, mas não precisa de um retorno, pois sua finalidade é apenas a exibição na tela."
      ],
      "metadata": {
        "id": "coy6AaBODhm5"
      }
    },
    {
      "cell_type": "code",
      "source": [
        "def boas_vindas_personal(nome):\n",
        "    print(f\"Olá {nome}! Seja bem-vindo(a)!\")"
      ],
      "metadata": {
        "id": "P4RkpCA9Di0R"
      },
      "execution_count": 7,
      "outputs": []
    },
    {
      "cell_type": "code",
      "source": [
        "nome = input(\"Digite seu nome: \")\n",
        "boas_vindas_personal(nome)"
      ],
      "metadata": {
        "colab": {
          "base_uri": "https://localhost:8080/"
        },
        "id": "n9SB5ZB_DoKi",
        "outputId": "25cdd575-8d40-4f83-8968-e615e6a3f532"
      },
      "execution_count": 8,
      "outputs": [
        {
          "output_type": "stream",
          "name": "stdout",
          "text": [
            "Digite seu nome: Emilly\n",
            "Olá Emilly! Seja bem-vindo(a)!\n"
          ]
        }
      ]
    },
    {
      "cell_type": "markdown",
      "source": [
        "4. **Quadrado e Cubo**\n",
        "\n",
        "Crie uma função chamada calcular_potencias que recebe um número n e retorna o quadrado e o cubo desse número em uma tupla.\n",
        "\n",
        "A função deve retornar dois valores. Lembre-se que em Python, você pode retornar múltiplos valores, que são automaticamente empacotados em uma tupla."
      ],
      "metadata": {
        "id": "00WPRlTZDr7L"
      }
    },
    {
      "cell_type": "code",
      "source": [
        "def calcular_potencias(n):\n",
        "    quadrado = n ** 2\n",
        "    cubo = n ** 3\n",
        "    return quadrado, cubo"
      ],
      "metadata": {
        "id": "BHmRp0p0DtGn"
      },
      "execution_count": 9,
      "outputs": []
    },
    {
      "cell_type": "code",
      "source": [
        "n = int(input(\"Digite um número: \"))\n",
        "quadrado, cubo = calcular_potencias(n)\n",
        "print(f\"O quadrado de {n} é {quadrado} e o cubo é {cubo}.\")"
      ],
      "metadata": {
        "colab": {
          "base_uri": "https://localhost:8080/"
        },
        "id": "7SmsTyI7Dww4",
        "outputId": "55c3d5cd-154e-4251-e24e-0d81bd0b81e8"
      },
      "execution_count": 10,
      "outputs": [
        {
          "output_type": "stream",
          "name": "stdout",
          "text": [
            "Digite um número: 4\n",
            "O quadrado de 4 é 16 e o cubo é 64.\n"
          ]
        }
      ]
    },
    {
      "cell_type": "markdown",
      "source": [
        "5. **Contagem Regressiva**\n",
        "\n",
        "Crie uma função chamada contagem_regressiva que recebe um número inteiro inicio e imprime todos os números de inicio até 1.\n",
        "\n",
        "Use um laço de repetição (for ou while) para iterar e imprimir os números sequencialmente. Não é necessário retornar nada."
      ],
      "metadata": {
        "id": "qGTqkv7aD2uw"
      }
    },
    {
      "cell_type": "code",
      "source": [
        "def contagem_regressiva(inicio):\n",
        "    while inicio >= 1:\n",
        "        print(inicio)\n",
        "        inicio -= 1"
      ],
      "metadata": {
        "id": "fv8MyU-pD5gi"
      },
      "execution_count": 11,
      "outputs": []
    },
    {
      "cell_type": "code",
      "source": [
        "n = int(input(\"Digite o número inicial da contagem regressiva: \"))\n",
        "contagem_regressiva(n)"
      ],
      "metadata": {
        "colab": {
          "base_uri": "https://localhost:8080/"
        },
        "id": "r6f1dxuED7XY",
        "outputId": "3e4ff3be-ceaa-4c1a-ddf8-30b3300bb0a5"
      },
      "execution_count": 12,
      "outputs": [
        {
          "output_type": "stream",
          "name": "stdout",
          "text": [
            "Digite o número inicial da contagem regressiva: 4\n",
            "4\n",
            "3\n",
            "2\n",
            "1\n"
          ]
        }
      ]
    },
    {
      "cell_type": "markdown",
      "source": [
        "6. **Cálculo de Desconto**\n",
        "\n",
        "Desenvolva uma função chamada calcular_desconto que aceita valor_original e percentual_desconto como parâmetros e retorna o valor final após aplicar o desconto.\n",
        "\n",
        "\n",
        "Para calcular o percentual corretamente, divida o percentual_desconto por 100 antes de subtrair de 1."
      ],
      "metadata": {
        "id": "w6mevU_1EAry"
      }
    },
    {
      "cell_type": "code",
      "source": [
        "def calcular_desconto(valor_original, percentual_desconto):\n",
        "    valor_final = valor_original * (1 - percentual_desconto / 100)\n",
        "    return valor_final"
      ],
      "metadata": {
        "id": "kwKtPBijECsi"
      },
      "execution_count": 13,
      "outputs": []
    },
    {
      "cell_type": "code",
      "source": [
        "valor = float(input(\"Digite o valor original do produto: R$ \"))\n",
        "desconto = float(input(\"Digite o percentual de desconto (%): \"))\n",
        "\n",
        "valor_com_desconto = calcular_desconto(valor, desconto)\n",
        "print(f\"Valor final com desconto: R$ {valor_com_desconto:.2f}\")\n"
      ],
      "metadata": {
        "colab": {
          "base_uri": "https://localhost:8080/"
        },
        "id": "OD-6i1ubEGOX",
        "outputId": "47eeaf17-1fca-4009-8924-6e5b0764dc2f"
      },
      "execution_count": 14,
      "outputs": [
        {
          "output_type": "stream",
          "name": "stdout",
          "text": [
            "Digite o valor original do produto: R$ 56\n",
            "Digite o percentual de desconto (%): 15\n",
            "Valor final com desconto: R$ 47.60\n"
          ]
        }
      ]
    },
    {
      "cell_type": "markdown",
      "source": [
        "7. **Maior e Menor**\n",
        "\n",
        "Crie uma função chamada encontrar_extremos que recebe uma lista de números e retorna o maior e o menor número da lista.\n",
        "\n",
        "Você pode explorar as funções nativas do Python max() e min() para uma solução concisa, ou implementar a lógica de comparação manualmente"
      ],
      "metadata": {
        "id": "Qk4ZimmQELPC"
      }
    },
    {
      "cell_type": "code",
      "source": [
        "def encontrar_extremos(lista):\n",
        "    maior = max(lista)\n",
        "    menor = min(lista)\n",
        "    return maior, menor"
      ],
      "metadata": {
        "id": "46hl4q0oEMgR"
      },
      "execution_count": 15,
      "outputs": []
    },
    {
      "cell_type": "code",
      "source": [
        "entrada = input(\"Digite uma lista de números: \")\n",
        "\n",
        "numeros = [float(num) for num in entrada.split()] ##split separa os numeros por espaço\n",
        "\n",
        "maior, menor = encontrar_extremos(numeros)\n",
        "print(f\"O maior número é {maior} e o menor é {menor}.\")"
      ],
      "metadata": {
        "colab": {
          "base_uri": "https://localhost:8080/"
        },
        "id": "Qpoe8b4TEOWa",
        "outputId": "b8dd7113-d4a8-4001-daee-6174a96d7ead"
      },
      "execution_count": 20,
      "outputs": [
        {
          "output_type": "stream",
          "name": "stdout",
          "text": [
            "Digite uma lista de números: 66 7 44 335 000 11\n",
            "O maior número é 335.0 e o menor é 0.0.\n"
          ]
        }
      ]
    },
    {
      "cell_type": "markdown",
      "source": [
        "8. **Calculadora Simples**\n",
        "\n",
        "Crie uma função chamada calculadora que recebe dois números (a e b) e uma operacao (string: 'soma', 'subtracao', 'multiplicacao', 'divisao') e retorna o resultado da operação.\n",
        "\n",
        "Use estruturas condicionais (if/elif/else) para determinar qual cálculo realizar e adicione uma verificação para evitar divisão por zero."
      ],
      "metadata": {
        "id": "U5gvv6QoEbZn"
      }
    },
    {
      "cell_type": "code",
      "source": [
        "def calculadora(a, b, operacao):\n",
        "    if operacao == '+':\n",
        "        return a + b\n",
        "    elif operacao == '-':\n",
        "        return a - b\n",
        "    elif operacao == '*':\n",
        "        return a * b\n",
        "    elif operacao == '/':\n",
        "        if b != 0:\n",
        "            return a / b\n",
        "        else:\n",
        "            return \"Erro: divisão por zero não é permitida.\"\n",
        "    else:\n",
        "        return \"Operação inválida.\"\n",
        "\n",
        "print(\"Operações disponíveis: soma (+), subtracao(-), multiplicacao(*), divisao(/)\")\n",
        "\n",
        "a = float(input(\"Digite o primeiro número: \"))\n",
        "b = float(input(\"Digite o segundo número: \"))\n",
        "operacao = input(\"Digite a operação desejada: \").lower()\n",
        "\n",
        "resultado = calculadora(a, b, operacao)\n",
        "print(\"Resultado:\", resultado)"
      ],
      "metadata": {
        "colab": {
          "base_uri": "https://localhost:8080/"
        },
        "id": "eC62mm-UEcuO",
        "outputId": "89e6ce55-eda1-40ae-9ca9-0e36cea355f8"
      },
      "execution_count": 21,
      "outputs": [
        {
          "output_type": "stream",
          "name": "stdout",
          "text": [
            "Operações disponíveis: soma (+), subtracao(-), multiplicacao(*), divisao(/)\n",
            "Digite o primeiro número: 5\n",
            "Digite o segundo número: 8\n",
            "Digite a operação desejada: -\n",
            "Resultado: -3.0\n"
          ]
        }
      ]
    },
    {
      "cell_type": "markdown",
      "source": [
        "9. **Mensagem Automática**\n",
        "\n",
        "Crie uma função chamada enviar_email que recebe destinatario e assunto, e opcionalmente um corpo da mensagem. Se o corpo não for fornecido, use um texto padrão como \"Este é um email automático.\"\n",
        "\n",
        "Defina o parâmetro corpo com um valor padrão (default value) na assinatura da função para torná-lo opcional."
      ],
      "metadata": {
        "id": "oOt-he8pEgrF"
      }
    },
    {
      "cell_type": "code",
      "source": [
        "def enviar_email(destinatario, assunto, corpo=\"Este é um email automático.\"):\n",
        "    print(f\"\\nEnviando email para: {destinatario}\")\n",
        "    print(f\"Assunto: {assunto}\")\n",
        "    print(f\"Mensagem: {corpo}\")\n",
        "\n",
        "destinatario = input(\"Digite o destinatário: \")\n",
        "assunto = input(\"Digite o assunto: \")\n",
        "\n",
        "escolha = input(\"\\nDigite 'Sim' para escrever o corpo da mensagem \\nOu 'Não' para usar o texto padrão: \")\n",
        "\n",
        "if escolha.lower() == \"sim\":\n",
        "    corpo = input(\"Digite o que deseja falar: \")\n",
        "    enviar_email(destinatario, assunto, corpo)\n",
        "else:\n",
        "    enviar_email(destinatario, assunto)\n",
        ""
      ],
      "metadata": {
        "colab": {
          "base_uri": "https://localhost:8080/"
        },
        "id": "o9VgOKqzEjJz",
        "outputId": "e0274422-84bb-4ce2-ae7a-a61a5324ffad"
      },
      "execution_count": 22,
      "outputs": [
        {
          "output_type": "stream",
          "name": "stdout",
          "text": [
            "Digite o destinatário: Beatriz\n",
            "Digite o assunto: Python\n",
            "\n",
            "Digite 'Sim' para escrever o corpo da mensagem \n",
            "Ou 'Não' para usar o texto padrão: sim\n",
            "Digite o que deseja falar: Python é muito legal!\n",
            "\n",
            "Enviando email para: Beatriz\n",
            "Assunto: Python\n",
            "Mensagem: Python é muito legal!\n"
          ]
        }
      ]
    },
    {
      "cell_type": "markdown",
      "source": [
        "10. **Sistema de Notas**\n",
        "\n",
        "Desenvolva uma função chamada avaliar_aluno que recebe uma nota (número) e retorna uma string indicando a situação do aluno: \"Aprovado\" (nota\n",
        "), \"Recuperação\" (\n",
        " e\n",
        ") ou \"Reprovado\" (\n",
        ").\n",
        "\n",
        "Lembre-se de usar operadores lógicos como and para definir os intervalos de notas de forma clara."
      ],
      "metadata": {
        "id": "wh3RNviBEwin"
      }
    },
    {
      "cell_type": "code",
      "source": [
        "def avaliar_aluno(nota):\n",
        "    if nota >= 7:\n",
        "        return \"Aprovado\"\n",
        "    elif nota >= 5 and nota < 7:\n",
        "        return \"Recuperação\"\n",
        "    else:\n",
        "        return \"Reprovado\"\n",
        "\n",
        "nota = float(input(\"Digite a nota do aluno: \"))\n",
        "situacao = avaliar_aluno(nota)\n",
        "print(f\"Situação do aluno: {situacao}\")"
      ],
      "metadata": {
        "colab": {
          "base_uri": "https://localhost:8080/"
        },
        "id": "fZX3EtuiExof",
        "outputId": "5b6fcc8a-b260-4fa4-b1b6-6e26ea2d6d45"
      },
      "execution_count": 23,
      "outputs": [
        {
          "output_type": "stream",
          "name": "stdout",
          "text": [
            "Digite a nota do aluno: 6\n",
            "Situação do aluno: Recuperação\n"
          ]
        }
      ]
    }
  ]
}