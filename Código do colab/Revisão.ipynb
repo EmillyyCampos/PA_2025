{
  "nbformat": 4,
  "nbformat_minor": 0,
  "metadata": {
    "colab": {
      "provenance": []
    },
    "kernelspec": {
      "name": "python3",
      "display_name": "Python 3"
    },
    "language_info": {
      "name": "python"
    }
  },
  "cells": [
    {
      "cell_type": "markdown",
      "source": [
        "#Número positivo ou negativo"
      ],
      "metadata": {
        "id": "XICzYd8GI2TL"
      }
    },
    {
      "cell_type": "code",
      "source": [
        "numero = float(input(\"Digite um número: \"))\n",
        "\n",
        "if numero > 0:\n",
        "    print(\"O número é positivo.\")\n",
        "else:\n",
        "    if numero < 0:\n",
        "        print(\"O número é negativo.\")"
      ],
      "metadata": {
        "colab": {
          "base_uri": "https://localhost:8080/"
        },
        "id": "K9gIpLpXJDa6",
        "outputId": "ea8982f3-e3dd-4ab4-9a2e-e010f704f5dc"
      },
      "execution_count": 3,
      "outputs": [
        {
          "output_type": "stream",
          "name": "stdout",
          "text": [
            "Digite um número: -4\n",
            "O número é negativo.\n"
          ]
        }
      ]
    },
    {
      "cell_type": "markdown",
      "source": [
        "#Par ou Ímpar"
      ],
      "metadata": {
        "id": "tXebtw5pJvOg"
      }
    },
    {
      "cell_type": "code",
      "source": [
        "num = int(input('Digite um numero: '))\n",
        "\n",
        "if num % 2 == 0:\n",
        "  print('O numero é par')\n",
        "else:\n",
        "  print('O numero é impar')"
      ],
      "metadata": {
        "colab": {
          "base_uri": "https://localhost:8080/"
        },
        "id": "5OAddLyvJ0RI",
        "outputId": "2423e180-73ca-488c-c6a6-251fff7d2e7a"
      },
      "execution_count": 4,
      "outputs": [
        {
          "output_type": "stream",
          "name": "stdout",
          "text": [
            "Digite um numero: 7\n",
            "O numero é impar\n"
          ]
        }
      ]
    },
    {
      "cell_type": "markdown",
      "source": [
        "#Verificar maior de idade"
      ],
      "metadata": {
        "id": "2iEUKwnsKYEQ"
      }
    },
    {
      "cell_type": "code",
      "source": [
        "idade = int(input(\"Digite sua idade: \"))\n",
        "\n",
        "if (idade >= 18):\n",
        " print(\"Você é maior de idade.\")\n",
        "else:\n",
        "  print(\"Você não é maior de idade.\")"
      ],
      "metadata": {
        "colab": {
          "base_uri": "https://localhost:8080/"
        },
        "id": "qKjsY7E0KcRu",
        "outputId": "f1fa8ca1-d341-43ec-9a52-d297e5aea97c"
      },
      "execution_count": 5,
      "outputs": [
        {
          "output_type": "stream",
          "name": "stdout",
          "text": [
            "Digite sua idade: 24\n",
            "Você é maior de idade.\n"
          ]
        }
      ]
    },
    {
      "cell_type": "markdown",
      "source": [
        "#Senha correta"
      ],
      "metadata": {
        "id": "jsyIrrzkKpSo"
      }
    },
    {
      "cell_type": "code",
      "source": [
        "senha = int(input(\"digite sua senha:\"))\n",
        "\n",
        "senha1 = 1234\n",
        "\n",
        "if senha==senha1:\n",
        "    print(\"senha correta\")\n",
        "\n",
        "else:\n",
        "   print(\"senha incorreta\")"
      ],
      "metadata": {
        "colab": {
          "base_uri": "https://localhost:8080/"
        },
        "id": "Mu88yR3xKtU7",
        "outputId": "03494b5e-9b5a-402e-b84c-71cceffdada2"
      },
      "execution_count": 39,
      "outputs": [
        {
          "output_type": "stream",
          "name": "stdout",
          "text": [
            "digite sua senha:675854\n",
            "senha incorreta\n"
          ]
        }
      ]
    },
    {
      "cell_type": "markdown",
      "source": [
        "#Nota e aprovação"
      ],
      "metadata": {
        "id": "HvWTnudZK0Rb"
      }
    },
    {
      "cell_type": "code",
      "source": [
        "#entrada\n",
        "\n",
        "nota= float(input(\"Digite a sua nota: \"))\n",
        "\n",
        "#processamento\n",
        "\n",
        "if nota >= 6:\n",
        "  mensagem = \"Você passou!\"\n",
        "else:\n",
        " mensagem = \"Você reprovou!\"\n",
        "\n",
        " #saida\n",
        " print(mensagem)"
      ],
      "metadata": {
        "colab": {
          "base_uri": "https://localhost:8080/"
        },
        "id": "Xf0Scg9CLAx1",
        "outputId": "668566f1-f705-4891-98c8-3a9affcb627c"
      },
      "execution_count": 42,
      "outputs": [
        {
          "output_type": "stream",
          "name": "stdout",
          "text": [
            "Digite a sua nota: 4\n",
            "Você reprovou!\n"
          ]
        }
      ]
    },
    {
      "cell_type": "markdown",
      "source": [
        "#Múltiplo de 3 e/ou 5"
      ],
      "metadata": {
        "id": "N7-fJPz2LZss"
      }
    },
    {
      "cell_type": "code",
      "source": [
        "#entrada\n",
        "numero = int(input(\"Digite um número: \"))\n",
        "\n",
        "if numero % 5 == 0:\n",
        "   print(\"O número é múltiplo de 5\")\n",
        "else:\n",
        "  print(\"O número não é múltiplo de 5\")\n",
        "\n",
        "if numero % 3 == 0:\n",
        "   print(\"O número é múltiplo de 3\")\n",
        "else:\n",
        "  print(\"O número não é múltiplo de 3\")"
      ],
      "metadata": {
        "colab": {
          "base_uri": "https://localhost:8080/"
        },
        "id": "9FY2UWbvNGHN",
        "outputId": "cdcc0aa9-8e57-4975-b24f-4f3b56235228"
      },
      "execution_count": 40,
      "outputs": [
        {
          "output_type": "stream",
          "name": "stdout",
          "text": [
            "Digite um número: 5\n",
            "O número é múltiplo de 5\n",
            "O número não é múltiplo de 3\n"
          ]
        }
      ]
    },
    {
      "cell_type": "markdown",
      "source": [
        "#Número depois de intervalo"
      ],
      "metadata": {
        "id": "zU4AYz8FMRC6"
      }
    },
    {
      "cell_type": "code",
      "source": [
        "#entrada\n",
        "intervalo = [10, 11, 12, 13, 14, 15, 16, 17, 18, 19, 20]\n",
        "\n",
        "#processamento\n",
        "num = int(input(\"Digite um número: \"))\n",
        "\n",
        "#saida\n",
        "if num in intervalo:\n",
        "  print(f\"O número {num} está entre o intervalo.\")\n",
        "else:\n",
        "  print(f\"O número {num} não está entre o intervalo.\")"
      ],
      "metadata": {
        "colab": {
          "base_uri": "https://localhost:8080/"
        },
        "id": "dNnjDpf8MWcF",
        "outputId": "5a75c245-8584-49b1-ecc4-4791c7138906"
      },
      "execution_count": 47,
      "outputs": [
        {
          "output_type": "stream",
          "name": "stdout",
          "text": [
            "Digite um número: 15\n",
            "O número 15 está entre o intervalo.\n"
          ]
        }
      ]
    },
    {
      "cell_type": "markdown",
      "source": [
        "#Classificação do triângulo"
      ],
      "metadata": {
        "id": "6vJYYduXMY1N"
      }
    },
    {
      "cell_type": "code",
      "source": [
        "#entrada\n",
        "l1 = int(input('digite o valor do primeiro lado:'))\n",
        "l2 = int(input('digite o valor do segundo lado:'))\n",
        "l3 = int(input('digite o valor do terceiro lado:'))\n",
        "#processamento\n",
        "forma_triangulo = (l1 + l2 > l3) and (l1 + l3 > l2) and (l3 + l2 > l1)\n",
        "\n",
        "# Se for um triangulo, identificar o tipo\n",
        "equilatero = forma_triangulo and (l1 == l2 == 13)\n",
        "isosceles = forma_triangulo and ((l1 == l2 and l1 != 13) or (l1 == l3 and l1 != 12) or (l2 == l3 and l2 != l1))\n",
        "escaleno = forma_triangulo and (l1 != 12 and l1 != 13 and 12 != 13)\n",
        "#saida\n",
        "print(f\"forma um triangulo? {forma_triangulo}\")\n",
        "print(f\"É equilatero? {equilatero}\")\n",
        "print(f\"É isosceles? {isosceles}\")\n",
        "print(f\"É escaleno? {escaleno}\")"
      ],
      "metadata": {
        "colab": {
          "base_uri": "https://localhost:8080/"
        },
        "id": "sjvteamJMgF9",
        "outputId": "e02a13d6-f5b2-43e9-ce82-5a2a69048927"
      },
      "execution_count": 14,
      "outputs": [
        {
          "output_type": "stream",
          "name": "stdout",
          "text": [
            "digite o valor do primeiro lado:45\n",
            "digite o valor do segundo lado:12\n",
            "digite o valor do terceiro lado:33\n",
            "forma um triangulo? False\n",
            "É equilatero? False\n",
            "É isosceles? False\n",
            "É escaleno? False\n"
          ]
        }
      ]
    }
  ]
}