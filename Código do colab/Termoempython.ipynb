{
  "nbformat": 4,
  "nbformat_minor": 0,
  "metadata": {
    "colab": {
      "provenance": [],
      "authorship_tag": "ABX9TyPQ5U08mu1rbssId13/hPrm",
      "include_colab_link": true
    },
    "kernelspec": {
      "name": "python3",
      "display_name": "Python 3"
    },
    "language_info": {
      "name": "python"
    }
  },
  "cells": [
    {
      "cell_type": "markdown",
      "metadata": {
        "id": "view-in-github",
        "colab_type": "text"
      },
      "source": [
        "<a href=\"https://colab.research.google.com/github/EmillyyCampos/PA_2025/blob/main/Termoempython.ipynb\" target=\"_parent\"><img src=\"https://colab.research.google.com/assets/colab-badge.svg\" alt=\"Open In Colab\"/></a>"
      ]
    },
    {
      "cell_type": "markdown",
      "source": [
        "#*Termo em Python*\n",
        "\n",
        "*  Faça uma lista com palavras com cinco letras;\n",
        "*  O jogador terá seis tentativas para acertar a palavra.\n",
        "\n"
      ],
      "metadata": {
        "id": "a27SfTohDqC_"
      }
    },
    {
      "cell_type": "code",
      "source": [
        "import random\n",
        "\n",
        "tentativas = 6\n",
        "\n",
        "palavras = ['pedro', 'alana', 'lucas', 'clara']\n",
        "\n",
        "palavra = random.choice(palavras)\n",
        "\n",
        "letras = []\n",
        "for letra in palavra:\n",
        "    letras.append(letra)\n",
        "\n",
        "qtd_letras = len(letras)\n",
        "\n",
        "print(f'Tente acertar o nome com {qtd_letras} letras!')\n",
        "\n",
        "while tentativas > 0:\n",
        "    chute = input(f'\\nVocê tem {tentativas} tentativas! Digite um nome com {qtd_letras} letras:').lower()\n",
        "    qtd_chute = len(chute)\n",
        "\n",
        "    while qtd_chute != qtd_letras:\n",
        "        chute = input(f'\\nVocê tem {tentativas} attempts. Digite um nome com {qtd_letras} letras:').lower()\n",
        "        qtd_chute = len(chute)\n",
        "\n",
        "    resultado = []\n",
        "\n",
        "    for e in range(qtd_letras):\n",
        "        if chute[e] == letras[e]:\n",
        "            resultado.append(chute[e].upper())\n",
        "        elif chute[e] in letras:\n",
        "            resultado.append(chute[e])\n",
        "        else:\n",
        "            resultado.append('_')\n",
        "\n",
        "    print('Resultado:', ''.join(resultado))\n",
        "\n",
        "    if chute == palavra:\n",
        "        print('Vitória! Você acertou!')\n",
        "        break\n",
        "\n",
        "    tentativas -= 1\n",
        "\n",
        "    if tentativas == 0:\n",
        "        print(f'Derrota! A palavra correta era {palavra}')"
      ],
      "metadata": {
        "colab": {
          "base_uri": "https://localhost:8080/"
        },
        "id": "ZH5z6ExfEOoE",
        "outputId": "70d8d596-04dd-4dbb-9644-895f01451fe1"
      },
      "execution_count": 3,
      "outputs": [
        {
          "output_type": "stream",
          "name": "stdout",
          "text": [
            "Tente acertar o nome com 5 letras!\n",
            "\n",
            "Você tem 6 tentativas! Digite um nome com 5 letras:marco\n",
            "Resultado: _a___\n",
            "\n",
            "Você tem 5 tentativas! Digite um nome com 5 letras:clara\n",
            "Resultado: _LA_A\n",
            "\n",
            "Você tem 4 tentativas! Digite um nome com 5 letras:alana\n",
            "Resultado: ALANA\n",
            "Vitória! Você acertou!\n"
          ]
        }
      ]
    }
  ]
}