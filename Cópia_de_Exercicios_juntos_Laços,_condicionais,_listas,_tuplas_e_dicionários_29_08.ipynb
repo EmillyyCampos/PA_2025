{
  "nbformat": 4,
  "nbformat_minor": 0,
  "metadata": {
    "colab": {
      "provenance": [],
      "include_colab_link": true
    },
    "kernelspec": {
      "name": "python3",
      "display_name": "Python 3"
    },
    "language_info": {
      "name": "python"
    }
  },
  "cells": [
    {
      "cell_type": "markdown",
      "metadata": {
        "id": "view-in-github",
        "colab_type": "text"
      },
      "source": [
        "<a href=\"https://colab.research.google.com/github/EmillyyCampos/PA_2025/blob/main/C%C3%B3pia_de_Exercicios_juntos_La%C3%A7os%2C_condicionais%2C_listas%2C_tuplas_e_dicion%C3%A1rios_29_08.ipynb\" target=\"_parent\"><img src=\"https://colab.research.google.com/assets/colab-badge.svg\" alt=\"Open In Colab\"/></a>"
      ]
    },
    {
      "cell_type": "markdown",
      "source": [
        "Lista de Exercícios unindo tudo que foi ensinado até o momento:\n",
        "\n",
        "\n",
        "*   Condicionais\n",
        "*   Laços de Reptição\n",
        "*   Listas\n",
        "*   Tuplas\n",
        "*   Dicionários\n",
        "*   Manipulação de Strings\n",
        "\n",
        "\n",
        "\n",
        "\n",
        "\n"
      ],
      "metadata": {
        "id": "JsFcwNObBRcd"
      }
    },
    {
      "cell_type": "markdown",
      "source": [
        "# Tuplas - Acesso e Desempacotamento\n",
        "\n",
        "1) Crie uma tupla contendo três tipos diferentes de dados: um número, uma string e uma lista. Use um laço de repetição para acessar e imprimir cada item da tupla. Além disso, dentro do laço, acesse e imprima o segundo item da lista que está dentro da tupla."
      ],
      "metadata": {
        "id": "HM91bKpkBqGI"
      }
    },
    {
      "cell_type": "code",
      "source": [
        "dados = (24, \"Cíntia\",[1,2,3])\n",
        "\n",
        "for i in dados:\n",
        "  print(i)"
      ],
      "metadata": {
        "colab": {
          "base_uri": "https://localhost:8080/"
        },
        "id": "sCbCOqPVYeRv",
        "outputId": "1562f547-2765-4a1e-dc63-72c47c44eca5"
      },
      "execution_count": null,
      "outputs": [
        {
          "output_type": "stream",
          "name": "stdout",
          "text": [
            "24\n",
            "Cíntia\n",
            "[1, 2, 3]\n"
          ]
        }
      ]
    },
    {
      "cell_type": "code",
      "source": [],
      "metadata": {
        "colab": {
          "base_uri": "https://localhost:8080/"
        },
        "id": "pZ8TJ7EFYsjg",
        "outputId": "421ac61c-a610-4c30-e322-382b944de8df"
      },
      "execution_count": null,
      "outputs": [
        {
          "output_type": "execute_result",
          "data": {
            "text/plain": [
              "tuple"
            ]
          },
          "metadata": {},
          "execution_count": 2
        }
      ]
    },
    {
      "cell_type": "markdown",
      "source": [
        "# Dicionários - Criação e Acesso\n",
        "## Cadastro de Pessoas e Análise de Alturas\n",
        "2) Solicite ao usuário para inserir o nome e a altura de várias pessoas. Preencha um dicionário com essas informações e depois encontre e imprima o nome e a altura da pessoa mais alta e da mais baixa."
      ],
      "metadata": {
        "id": "6vEHxGtjBxMi"
      }
    },
    {
      "cell_type": "code",
      "source": [
        "pessoas = {}\n",
        "\n",
        "while True:\n",
        "    nome = input(\"Digite o nome de tal pessoa ou escreva 'sair' para obter o resultado: \")\n",
        "\n",
        "    if nome.lower() == \"sair\":\n",
        "        break\n",
        "\n",
        "    altura = float(input(f\"Digite a altura de {nome} em metros: \"))\n",
        "\n",
        "    pessoas[nome] = altura\n",
        "\n",
        "if pessoas:\n",
        "    mais_alto = max(pessoas, key=pessoas.get)\n",
        "    mais_baixo = min(pessoas, key=pessoas.get)\n",
        "\n",
        "    print(\"Resultado\")\n",
        "    print(f\"A pessoa mais alta é {mais_alto}, com {pessoas[mais_alto]:.2f} m\")\n",
        "    print(f\"A pessoa mais baixa é {mais_baixo}, com {pessoas[mais_baixo]:.2f} m\")\n",
        "else:\n",
        "    print(\"Nenhuma pessoa cadastrada.\")"
      ],
      "metadata": {
        "id": "MpJYauvTZR69",
        "colab": {
          "base_uri": "https://localhost:8080/"
        },
        "outputId": "fecbb8f2-a836-4a35-844b-4cd39dd143b2"
      },
      "execution_count": 23,
      "outputs": [
        {
          "output_type": "stream",
          "name": "stdout",
          "text": [
            "Digite o nome de tal pessoa ou escreva 'sair' para obter o resultado: Eloisa\n",
            "Digite a altura de Eloisa em metros: 1.70\n",
            "Digite o nome de tal pessoa ou escreva 'sair' para obter o resultado: Julia\n",
            "Digite a altura de Julia em metros: 1.45\n",
            "Digite o nome de tal pessoa ou escreva 'sair' para obter o resultado: Cinthia\n",
            "Digite a altura de Cinthia em metros: 1.79\n",
            "Digite o nome de tal pessoa ou escreva 'sair' para obter o resultado: sair\n",
            "Resultado\n",
            "A pessoa mais alta é Cinthia, com 1.79 m\n",
            "A pessoa mais baixa é Julia, com 1.45 m\n"
          ]
        }
      ]
    },
    {
      "cell_type": "markdown",
      "source": [
        "# Lista, laços e Condicionais\n",
        "3) Descrição: Crie uma listacom cinco números inteiros. Use um laço de repetição e uma condicional para imprimir apenas os números que são múltiplos de 3."
      ],
      "metadata": {
        "id": "FytD4QZyELAt"
      }
    },
    {
      "cell_type": "code",
      "source": [
        "numeros = [3,5,12,6,9]\n",
        "\n",
        "for i in numeros:\n",
        "  if i%3 == 0:\n",
        "    print(f'O número {i} é múltiplo de 3.')"
      ],
      "metadata": {
        "colab": {
          "base_uri": "https://localhost:8080/"
        },
        "id": "rUWqv5WBaAwV",
        "outputId": "89476e99-77ee-47f7-f3b5-ce0caf1c249c"
      },
      "execution_count": null,
      "outputs": [
        {
          "output_type": "stream",
          "name": "stdout",
          "text": [
            "O número 3 é múltiplo de 3.\n",
            "O número 12 é múltiplo de 3.\n",
            "O número 6 é múltiplo de 3.\n",
            "O número 9 é múltiplo de 3.\n"
          ]
        }
      ]
    },
    {
      "cell_type": "markdown",
      "source": [
        "# Manipulação de Strings e Condicionais\n",
        "4) Descrição: Crie uma string com uma frase. Use uma condicional para verificar se a frase contém a palavra \"Python\". Se sim, substitua a palavra \"Python\" por \"programação\" e imprima a nova frase."
      ],
      "metadata": {
        "id": "hwn3Fz8aEYSH"
      }
    },
    {
      "cell_type": "code",
      "source": [
        "frase = 'A área de Python adquire os melhores empregos.'\n",
        "print(\"Frase original:\")\n",
        "print(frase)\n",
        "nova_frase = frase.replace('Python', 'programação')\n",
        "print(\"Frase modificaeda:\")\n",
        "print(nova_frase)"
      ],
      "metadata": {
        "colab": {
          "base_uri": "https://localhost:8080/"
        },
        "id": "Gvt7THk3b5mF",
        "outputId": "c4216ffb-80d7-4c44-a1cc-a0f8f1dd41dc"
      },
      "execution_count": 9,
      "outputs": [
        {
          "output_type": "stream",
          "name": "stdout",
          "text": [
            "Frase original:\n",
            "A área de Python adquire os melhores empregos.\n",
            "Frase modificaeda:\n",
            "A área de programação adquire os melhores empregos.\n"
          ]
        }
      ]
    },
    {
      "cell_type": "markdown",
      "source": [
        "# Simulação de Alfândega com Cadastro Dinâmico de Itens usando dicionário\n",
        "5) Simule uma situação de alfândega onde o funcionário cadastra itens novos encontrados na mala de uma pessoa que veio de uma viagem internacional. Após o cadastro de todos os itens, o programa imprime uma nota com todos os itens e seus preços, calcula o valor total e, se o valor total ultrapassar 500 dólares, calcula o valor de 60% a ser pago."
      ],
      "metadata": {
        "id": "hPP-JNTxEwFT"
      }
    },
    {
      "cell_type": "code",
      "source": [
        "itens = {}\n",
        "\n",
        "while True:\n",
        "    nome = input(\"Digite o nome do item ou 'sair' para encerrar: \")\n",
        "\n",
        "    if nome.lower() == \"sair\":\n",
        "        break\n",
        "\n",
        "    preco = float(input(f\"Digite o preço do item {nome} em dólares: \"))\n",
        "    itens[nome] = preco\n",
        "\n",
        "print(\"\\nNota da alfândega\")\n",
        "\n",
        "total = 0\n",
        "\n",
        "for nome, preco in itens.items():\n",
        "    print(f\"{nome}: ${preco:.2f}\")\n",
        "    total += preco\n",
        "\n",
        "print(f\"\\nValor total: ${total:.2f}\")\n",
        "\n",
        "if total > 500:\n",
        "    imposto = total * 0.60\n",
        "    print(f\"Como o valor ultrapassa 500, será cobrado um imposto de ${imposto:.2f}\")\n",
        "else:\n",
        "    print(\"Não há imposto a pagar, pois o valor não ultrapassou $500.\")\n"
      ],
      "metadata": {
        "id": "KGOfvoZWm4HH",
        "colab": {
          "base_uri": "https://localhost:8080/"
        },
        "outputId": "2458eb01-636e-405a-c4fc-1e14511d25a7"
      },
      "execution_count": 29,
      "outputs": [
        {
          "output_type": "stream",
          "name": "stdout",
          "text": [
            "Digite o nome do item ou 'sair' para encerrar: televisão\n",
            "Digite o preço do item televisão em dólares: 1800\n",
            "Digite o nome do item ou 'sair' para encerrar: celular\n",
            "Digite o preço do item celular em dólares: 140\n",
            "Digite o nome do item ou 'sair' para encerrar: sair\n",
            "\n",
            "Nota da alfândega\n",
            "televisão: $1800.00\n",
            "celular: $140.00\n",
            "\n",
            "Valor total: $1940.00\n",
            "Como o valor ultrapassa 500, será cobrado um imposto de $1164.00\n"
          ]
        }
      ]
    },
    {
      "cell_type": "markdown",
      "source": [
        "# Identificação de Palavras Negativas em um Texto\n",
        "6) Você vai criar um programa em Python para analisar um texto e identificar palavras que expressam pensamentos negativos. Para isso, você usará uma lista de palavras negativas fornecida e verificará quais dessas palavras estão presentes no texto fornecido pelo usuário. Exemplo de palavras negtivas, acrescente mais na lista: # Lista de palavras negativas palavras_negativas = ['triste', 'deprimido', 'ansioso', 'desapontado', 'frustrado']"
      ],
      "metadata": {
        "id": "OH8D047zVsp-"
      }
    },
    {
      "cell_type": "code",
      "source": [
        "palavras_negativas = [\n",
        "    'triste', 'deprimido', 'ansioso', 'desapontado', 'frustrado',\n",
        "    'cansado', 'inseguro', 'raiva', 'ódio', 'estressado',\n",
        "    'infeliz', 'desanimado', 'solitário', 'abatido'\n",
        "]\n",
        "\n",
        "texto = input(\"Cole um texto para análise: \").lower()\n",
        "\n",
        "encontradas = []\n",
        "\n",
        "for palavra in palavras_negativas:\n",
        "    if palavra in texto:\n",
        "        encontradas.append(palavra)\n",
        "\n",
        "if encontradas:\n",
        "    print(\"\\nPalavras negativas encontradas no texto:\")\n",
        "    for e in encontradas:\n",
        "        print(\"-\", e)\n",
        "else:\n",
        "    print(\"\\nNenhuma palavra negativa foi encontrada no texto.\")\n"
      ],
      "metadata": {
        "id": "xDSrYWf_Vr8G",
        "colab": {
          "base_uri": "https://localhost:8080/"
        },
        "outputId": "3cdaf082-ab0e-402f-d8c0-aa17981daac8"
      },
      "execution_count": 19,
      "outputs": [
        {
          "output_type": "stream",
          "name": "stdout",
          "text": [
            "Cole um texto para análise: Robert esteve deprimido esta manha. Creio que ele esteja desapontado com o que ocorreu ontem, com Laura.\n",
            "\n",
            "Palavras negativas encontradas no texto:\n",
            "- deprimido\n",
            "- desapontado\n"
          ]
        }
      ]
    }
  ]
}