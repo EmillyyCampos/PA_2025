{
  "nbformat": 4,
  "nbformat_minor": 0,
  "metadata": {
    "colab": {
      "provenance": [],
      "authorship_tag": "ABX9TyPgnO5JaxA29pjT5KBbvKEE",
      "include_colab_link": true
    },
    "kernelspec": {
      "name": "python3",
      "display_name": "Python 3"
    },
    "language_info": {
      "name": "python"
    }
  },
  "cells": [
    {
      "cell_type": "markdown",
      "metadata": {
        "id": "view-in-github",
        "colab_type": "text"
      },
      "source": [
        "<a href=\"https://colab.research.google.com/github/EmillyyCampos/PA_2025/blob/main/Funcoes.ipynb\" target=\"_parent\"><img src=\"https://colab.research.google.com/assets/colab-badge.svg\" alt=\"Open In Colab\"/></a>"
      ]
    },
    {
      "cell_type": "markdown",
      "source": [
        "#Funções - Quarto Bimestre"
      ],
      "metadata": {
        "id": "0YzC2HkqRSl8"
      }
    },
    {
      "cell_type": "code",
      "execution_count": 1,
      "metadata": {
        "id": "bmg5_NUMQ-sv"
      },
      "outputs": [],
      "source": [
        "def saudacao(nome, idade):\n",
        "  print(f\"ola, {nome} voce tem {idade} anos.\")"
      ]
    },
    {
      "cell_type": "code",
      "source": [
        "saudacao(\"emilly\", 15)"
      ],
      "metadata": {
        "colab": {
          "base_uri": "https://localhost:8080/"
        },
        "id": "nK1KNHN6SLgi",
        "outputId": "c54b7701-dacb-47db-fac7-d8fc9bc4406b"
      },
      "execution_count": 2,
      "outputs": [
        {
          "output_type": "stream",
          "name": "stdout",
          "text": [
            "ola, emilly voce tem 15 anos.\n"
          ]
        }
      ]
    },
    {
      "cell_type": "code",
      "source": [
        "def comida(nome):\n",
        "  print(f'minha comida favorita é: {nome}')"
      ],
      "metadata": {
        "id": "5uvOvRZkS5Na"
      },
      "execution_count": 3,
      "outputs": []
    },
    {
      "cell_type": "code",
      "source": [
        "comida(\"pizza\")"
      ],
      "metadata": {
        "colab": {
          "base_uri": "https://localhost:8080/"
        },
        "id": "9IBZKznuS7HL",
        "outputId": "a981b49b-fd9f-47bc-abf3-1275b6b3f2d6"
      },
      "execution_count": 4,
      "outputs": [
        {
          "output_type": "stream",
          "name": "stdout",
          "text": [
            "minha comida favorita é: pizza\n"
          ]
        }
      ]
    },
    {
      "cell_type": "code",
      "source": [
        "from  datetime import datetime\n",
        "\n",
        "def mostrar_horario():\n",
        "  agora = datetime.now()\n",
        "  print(f'o horario atual é {agora.strftime(\"%H:%M:%S\")}')"
      ],
      "metadata": {
        "id": "V4-HoRhCS_zi"
      },
      "execution_count": 5,
      "outputs": []
    },
    {
      "cell_type": "code",
      "source": [
        "def verificar_paridade(numero):\n",
        "  if numero % 2 == 0:\n",
        "    print(f'o numero {numero} é par')\n",
        "  else:\n",
        "    print(f\"o numero{numero} é impar\")"
      ],
      "metadata": {
        "id": "_F6_5USrTE39"
      },
      "execution_count": 6,
      "outputs": []
    },
    {
      "cell_type": "code",
      "source": [
        "verificar_paridade(206)"
      ],
      "metadata": {
        "colab": {
          "base_uri": "https://localhost:8080/"
        },
        "id": "YSjEXFqaTFxV",
        "outputId": "68c76c5c-6501-482a-8e1d-65e8f068d98e"
      },
      "execution_count": 7,
      "outputs": [
        {
          "output_type": "stream",
          "name": "stdout",
          "text": [
            "o numero 206 é par\n"
          ]
        }
      ]
    },
    {
      "cell_type": "code",
      "source": [
        "def mensagem():\n",
        "  return 'seja bem vindo ao nosso curso de python!'"
      ],
      "metadata": {
        "id": "CmKm9YZ2TOw4"
      },
      "execution_count": 10,
      "outputs": []
    },
    {
      "cell_type": "code",
      "source": [
        "print(mensagem())"
      ],
      "metadata": {
        "colab": {
          "base_uri": "https://localhost:8080/"
        },
        "id": "Ycml6KbeTTRI",
        "outputId": "74d3acc9-a71b-460e-bdcc-9b0525d6149f"
      },
      "execution_count": 11,
      "outputs": [
        {
          "output_type": "stream",
          "name": "stdout",
          "text": [
            "seja bem vindo ao nosso curso de python!\n"
          ]
        }
      ]
    },
    {
      "cell_type": "markdown",
      "source": [
        "* Fazer uma função que retorne a soma de dois números"
      ],
      "metadata": {
        "id": "ePagEVLUTldd"
      }
    },
    {
      "cell_type": "code",
      "source": [
        "def soma(num1,num2):\n",
        "  return num1 + num2"
      ],
      "metadata": {
        "id": "r76GMBMFTsn2"
      },
      "execution_count": 14,
      "outputs": []
    },
    {
      "cell_type": "code",
      "source": [
        "soma(13,5)"
      ],
      "metadata": {
        "colab": {
          "base_uri": "https://localhost:8080/"
        },
        "id": "LnmjqAxFTX1o",
        "outputId": "befeaf1a-b565-4a8b-e1d1-4b98bc2bb662"
      },
      "execution_count": 16,
      "outputs": [
        {
          "output_type": "execute_result",
          "data": {
            "text/plain": [
              "18"
            ]
          },
          "metadata": {},
          "execution_count": 16
        }
      ]
    },
    {
      "cell_type": "code",
      "source": [
        "def somar (a, b):\n",
        "  resultado = a + b\n",
        "  return resultado"
      ],
      "metadata": {
        "id": "XoxiLMGcT8Mp"
      },
      "execution_count": 17,
      "outputs": []
    },
    {
      "cell_type": "code",
      "source": [
        "n1 = int(input(\"digite o primeiro numero: \"))\n",
        "n2 = int(input(\"digite o segundo numero: \"))\n",
        "print(f\"a soma é igual:\", somar(n1, n2))"
      ],
      "metadata": {
        "colab": {
          "base_uri": "https://localhost:8080/"
        },
        "id": "TH6Dxh7IT_yb",
        "outputId": "0f439d2e-dd8b-419c-ef19-de209ecdd610"
      },
      "execution_count": 18,
      "outputs": [
        {
          "output_type": "stream",
          "name": "stdout",
          "text": [
            "digite o primeiro numero: 56\n",
            "digite o segundo numero: 112\n",
            "a soma é igual: 168\n"
          ]
        }
      ]
    },
    {
      "cell_type": "markdown",
      "source": [
        "* Escrever uma função que o usuário irá digitar a quantidade e o preço e a função irá calcular o valor total."
      ],
      "metadata": {
        "id": "-EYx07YrUIQZ"
      }
    },
    {
      "cell_type": "code",
      "source": [
        "def calcular_função (qtd, preço):\n",
        "  resultado = qtd * preço\n",
        "  return resultado"
      ],
      "metadata": {
        "id": "r-lA968vUVOn"
      },
      "execution_count": 19,
      "outputs": []
    },
    {
      "cell_type": "code",
      "source": [
        "  qtd = float(input(\"Digite a quantidade: \"))\n",
        "  preço = float(input(\"Digite o preço: \"))\n",
        "  print(\"o total é:\", calcular_função(qtd, preço))"
      ],
      "metadata": {
        "colab": {
          "base_uri": "https://localhost:8080/"
        },
        "id": "3IWWkTP7UZ2H",
        "outputId": "5de21f58-0840-4d04-c623-de2fd897e594"
      },
      "execution_count": 22,
      "outputs": [
        {
          "output_type": "stream",
          "name": "stdout",
          "text": [
            "Digite a quantidade: 5\n",
            "Digite o preço: 12\n",
            "o total é: 60.0\n"
          ]
        }
      ]
    },
    {
      "cell_type": "markdown",
      "source": [
        "* Fazer uma função que conte quantas letras tem em uma palavra."
      ],
      "metadata": {
        "id": "WTkz3YcmUgjg"
      }
    },
    {
      "cell_type": "code",
      "source": [
        "def conta_letras(palavra):\n",
        "    e = len(palavra)\n",
        "    return e"
      ],
      "metadata": {
        "id": "7DmapPaMWZuQ"
      },
      "execution_count": 30,
      "outputs": []
    },
    {
      "cell_type": "code",
      "source": [
        "palavra = input('Digite uma palavra: ')\n",
        "print(f'O número de letras na palavra é: {conta_letras(palavra)}')"
      ],
      "metadata": {
        "colab": {
          "base_uri": "https://localhost:8080/"
        },
        "id": "hLOQcc1-WbVA",
        "outputId": "88028357-7ca3-4e8a-f6fb-ac54c63bef08"
      },
      "execution_count": 31,
      "outputs": [
        {
          "output_type": "stream",
          "name": "stdout",
          "text": [
            "Digite uma palavra: namoro\n",
            "O número de letras na palavra é: 6\n"
          ]
        }
      ]
    }
  ]
}