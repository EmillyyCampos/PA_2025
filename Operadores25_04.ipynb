{
  "nbformat": 4,
  "nbformat_minor": 0,
  "metadata": {
    "colab": {
      "provenance": [],
      "authorship_tag": "ABX9TyOsW2JnwyIWCAXlhHmDcBDr",
      "include_colab_link": true
    },
    "kernelspec": {
      "name": "python3",
      "display_name": "Python 3"
    },
    "language_info": {
      "name": "python"
    }
  },
  "cells": [
    {
      "cell_type": "markdown",
      "metadata": {
        "id": "view-in-github",
        "colab_type": "text"
      },
      "source": [
        "<a href=\"https://colab.research.google.com/github/EmillyyCampos/PA_2025/blob/main/Operadores25_04.ipynb\" target=\"_parent\"><img src=\"https://colab.research.google.com/assets/colab-badge.svg\" alt=\"Open In Colab\"/></a>"
      ]
    },
    {
      "cell_type": "markdown",
      "source": [
        "#Impar ou Par"
      ],
      "metadata": {
        "id": "wCQaJPmyGCTg"
      }
    },
    {
      "cell_type": "code",
      "source": [
        "# Entrada\n",
        "numero = int(input(\"Digite um número: \"))\n",
        "# Processamento\n",
        "paridade = [\"Par\", \"Ímpar\"][numero % 2]\n",
        "# Saída\n",
        "print(f\"O número {numero} é {paridade}.\")"
      ],
      "metadata": {
        "colab": {
          "base_uri": "https://localhost:8080/"
        },
        "id": "7J6Oa_0yGHCO",
        "outputId": "0bea1425-5fbb-4403-a199-a6a0e4fb677f"
      },
      "execution_count": null,
      "outputs": [
        {
          "output_type": "stream",
          "name": "stdout",
          "text": [
            "Digite um número: 62\n",
            "O número 62 é Par.\n"
          ]
        }
      ]
    },
    {
      "cell_type": "markdown",
      "source": [
        "#Valor de lados do triângulo"
      ],
      "metadata": {
        "id": "zARHXY55GZaU"
      }
    },
    {
      "cell_type": "code",
      "source": [
        "#entrada\n",
        "l1 = int(input('digite o valor do primeiro lado:'))\n",
        "l2 = int(input('digite o valor do segundo lado:'))\n",
        "l3 = int(input('digite o valor do terceiro lado:'))\n",
        "#processamento\n",
        "forma_triangulo = (l1 + l2 > l3) and (l1 + l3 > l2) and (l3 + l2 > l1)\n",
        "\n",
        "# Se for um triangulo, identificar o tipo\n",
        "equilatero = forma_triangulo and (l1 == l2 == 13)\n",
        "isosceles = forma_triangulo and ((l1 == l2 and l1 != 13) or (l1 == l3 and l1 != 12) or (l2 == l3 and l2 != l1))\n",
        "escaleno = forma_triangulo and (l1 != 12 and l1 != 13 and 12 != 13)\n",
        "#saida\n",
        "print(f\"forma um triangulo? {forma_triangulo}\")\n",
        "print(f\"É equilatero? {equilatero}\")\n",
        "print(f\"É isosceles? {isosceles}\")\n",
        "print(f\"É escaleno? {escaleno}\")"
      ],
      "metadata": {
        "colab": {
          "base_uri": "https://localhost:8080/"
        },
        "id": "KF4o9Wf5GiXp",
        "outputId": "4fa91a96-5c88-4f59-a9ac-2875e84428b0"
      },
      "execution_count": 10,
      "outputs": [
        {
          "output_type": "stream",
          "name": "stdout",
          "text": [
            "digite o valor do primeiro lado:5\n",
            "digite o valor do segundo lado:5\n",
            "digite o valor do terceiro lado:5\n",
            "forma um triangulo? True\n",
            "É equilatero? False\n",
            "É isosceles? True\n",
            "É escaleno? True\n"
          ]
        }
      ]
    },
    {
      "cell_type": "markdown",
      "source": [
        "#Calculo de IMC"
      ],
      "metadata": {
        "id": "t_WPBshS4VO-"
      }
    },
    {
      "cell_type": "code",
      "source": [
        "#entrada\n",
        "peso = float(input(\"Digite seu peso (kg): \"))\n",
        "altura = float(input(\"Digite sua altura (m): \"))\n",
        "\n",
        "#processamento\n",
        "imc = peso / (altura ** 2)\n",
        "\n",
        "faixas = [\n",
        "    (imc < 18.5, \"Abaixo do peso\"),\n",
        "    (imc < 25, \"Peso normal\"),\n",
        "    (imc < 30, \"Sobrepeso\"),\n",
        "    (imc < 35, \"Obesidade grau 1\"),\n",
        "    (imc < 40, \"Obesidade grau 2\"),\n",
        "    (imc >= 40, \"Obesidade ghau 3\")\n",
        "]\n",
        "status = next(texto for cond, texto in faixas if cond)\n",
        "\n",
        "#saida\n",
        "print(f\"Seu IMC é {imc:.2f}\")\n",
        "print(f\"Classificação: {status}\")"
      ],
      "metadata": {
        "colab": {
          "base_uri": "https://localhost:8080/"
        },
        "id": "itOOxKpl4YXN",
        "outputId": "c8030d51-a7e4-494d-d275-78a41e4bac3c"
      },
      "execution_count": 5,
      "outputs": [
        {
          "output_type": "stream",
          "name": "stdout",
          "text": [
            "Digite seu peso (kg): 55\n",
            "Digite sua altura (m): 1.68\n",
            "Seu IMC é 19.49\n",
            "Classificação: Peso normal\n"
          ]
        }
      ]
    },
    {
      "cell_type": "markdown",
      "source": [
        "#Campeonato de vôlei"
      ],
      "metadata": {
        "id": "GyfgNBUt6lsl"
      }
    },
    {
      "cell_type": "code",
      "source": [
        "#entrada\n",
        "altura = float(input(\"Digite a sua altura (em metros): \"))\n",
        "idade = int(input(\"Digite sua idade: \"))\n",
        "\n",
        "#processamento\n",
        "pode = (altura >= 1.75) and (idade >=18)\n",
        "\n",
        "#saida\n",
        "print(\"Você pode competir no campeonato de vôlei!\" * pode + \"Você não pode participar do campeonato de vôlei :(\" * (not pode))"
      ],
      "metadata": {
        "colab": {
          "base_uri": "https://localhost:8080/"
        },
        "id": "ZW6NupEv6u3W",
        "outputId": "a94e079f-ebb3-4ca6-a94f-e253da87a324"
      },
      "execution_count": 7,
      "outputs": [
        {
          "output_type": "stream",
          "name": "stdout",
          "text": [
            "Digite a sua altura (em metros): 1.87\n",
            "Digite sua idade: 19\n",
            "Você pode competir no campeonato de vôlei!\n"
          ]
        }
      ]
    }
  ]
}