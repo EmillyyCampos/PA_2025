{
  "nbformat": 4,
  "nbformat_minor": 0,
  "metadata": {
    "colab": {
      "provenance": [],
      "authorship_tag": "ABX9TyMv4hNIwKbDzrS2Jcq/Ew9o",
      "include_colab_link": true
    },
    "kernelspec": {
      "name": "python3",
      "display_name": "Python 3"
    },
    "language_info": {
      "name": "python"
    }
  },
  "cells": [
    {
      "cell_type": "markdown",
      "metadata": {
        "id": "view-in-github",
        "colab_type": "text"
      },
      "source": [
        "<a href=\"https://colab.research.google.com/github/EmillyyCampos/PA_2025/blob/main/fun%C3%A7%C3%B5es17_10ipynb.ipynb\" target=\"_parent\"><img src=\"https://colab.research.google.com/assets/colab-badge.svg\" alt=\"Open In Colab\"/></a>"
      ]
    },
    {
      "cell_type": "markdown",
      "source": [
        "**1 - Mensagem de Boas-Vindas**"
      ],
      "metadata": {
        "id": "hJlukEjBnE4A"
      }
    },
    {
      "cell_type": "markdown",
      "source": [
        "Crie uma função chamada saudacao que não recebe parâmetros e simplesmente imprime na tela a mensagem que você escolher.\n",
        "\n",
        "Nome da Função: boas_vindas(), escolha a saudacao\n",
        "\n",
        "Esta é a forma mais simples: uma função que executa uma ação (impressão) sem precisar de dados externos ou retornar um resultado.\n",
        "\n",
        "Dica: esse tipo de função é \"sem parâmetro e sem retorno\"."
      ],
      "metadata": {
        "id": "8DEV8dWrnN6W"
      }
    },
    {
      "cell_type": "code",
      "source": [
        "  def boas_vindas(saudacao):\n",
        "    for e in range (saudacao):\n",
        "      saudacao = print(input(\"digite a forma de saudação:\"))"
      ],
      "metadata": {
        "id": "YHawDuotqnom"
      },
      "execution_count": 16,
      "outputs": []
    },
    {
      "cell_type": "code",
      "source": [
        " def boas_vindas(saudacao):\n",
        "  print(saudacao)"
      ],
      "metadata": {
        "id": "GQhEb_UWPxbT"
      },
      "execution_count": 17,
      "outputs": []
    },
    {
      "cell_type": "markdown",
      "source": [
        "**#2 - Conversor de temperatura**"
      ],
      "metadata": {
        "id": "Hj5NWfLLo3j_"
      }
    },
    {
      "cell_type": "markdown",
      "source": [
        "Crie uma função chamda Celsius_to_fahreinhet que recebe uma temperatura em Celcius(C) e retorna a temperatura equivalente em Fahrenheit(F).\n",
        "\n",
        "**Fórmula** (0 °C × 9/5) + 32 = 32 °F\n",
        "\n",
        "Dica: Lembre-se de converter a fração para decimal para garantir o cálculo correto e usar o *return* para devolver o valo.\n"
      ],
      "metadata": {
        "id": "fLAPUMsbpaQm"
      }
    },
    {
      "cell_type": "code",
      "source": [
        "def Celsius_to_fahrenheit(celsius):\n",
        "    fahrenheit = (celsius * 1.8) + 32\n",
        "    return fahrenheit"
      ],
      "metadata": {
        "id": "Ve15i_Zvqm2_"
      },
      "execution_count": 2,
      "outputs": []
    },
    {
      "cell_type": "code",
      "source": [
        "print(Celsius_to_fahrenheit(0))"
      ],
      "metadata": {
        "colab": {
          "base_uri": "https://localhost:8080/"
        },
        "id": "OjghR46oOxoU",
        "outputId": "ba775ccd-28d4-4287-80ea-32e298644f5d"
      },
      "execution_count": 3,
      "outputs": [
        {
          "output_type": "stream",
          "name": "stdout",
          "text": [
            "32.0\n"
          ]
        }
      ]
    },
    {
      "cell_type": "markdown",
      "source": [
        "**3- Mensagem Personalizada**\n",
        "\n",
        "Crie uma função chamada boas_vindas_personal que recebe um parâmetro nome (*string*) e imprime uma mensagem de boas-vindas usando esse nome.(Ex: Olá[Márcio]! Seja bem-vindo)\n",
        "\n",
        "Esta função recebe um parâmetro, mas não precisa de um retorno, pois sua finalidade é apenas a exibição na tela."
      ],
      "metadata": {
        "id": "silTkf8bqtHG"
      }
    },
    {
      "cell_type": "code",
      "source": [
        "def boas_vindas_personal(nome):\n",
        "    print(f\"Olá [{nome}]! Seja bem-vindo\")"
      ],
      "metadata": {
        "id": "QUGBvYBBrwTf"
      },
      "execution_count": 4,
      "outputs": []
    },
    {
      "cell_type": "code",
      "source": [
        "boas_vindas_personal(\"Emilly\")"
      ],
      "metadata": {
        "colab": {
          "base_uri": "https://localhost:8080/"
        },
        "id": "AIUklyF5O7Q5",
        "outputId": "bce76a14-a480-4d6c-ea78-d031d2ce6b1e"
      },
      "execution_count": 6,
      "outputs": [
        {
          "output_type": "stream",
          "name": "stdout",
          "text": [
            "Olá [Emilly]! Seja bem-vindo\n"
          ]
        }
      ]
    },
    {
      "cell_type": "markdown",
      "source": [
        "**4- Quadrado e Cubo**\n",
        "\n",
        "Crie uma função chamada *calcular_potenciais* que recebe número *N* e retorna o quadrado e o cubo desse número em uma tupla.\n",
        "\n",
        "A função deve retornar dois valores. Lembre que em Python, você pode retornar múltiplas valores, que são automaticamente empacotados em uma tupla."
      ],
      "metadata": {
        "id": "3dUCO8Rvrwjf"
      }
    },
    {
      "cell_type": "code",
      "source": [
        "def calcular_potencias(num):\n",
        "    quadrado = num ** 2\n",
        "    cubo = num ** 3\n",
        "    return (quadrado, cubo)"
      ],
      "metadata": {
        "id": "CrN07fWFsuJI"
      },
      "execution_count": 8,
      "outputs": []
    },
    {
      "cell_type": "code",
      "source": [
        "resultado = calcular_potencias(3)\n",
        "print(resultado)"
      ],
      "metadata": {
        "colab": {
          "base_uri": "https://localhost:8080/"
        },
        "id": "xX5PEWlEPGdx",
        "outputId": "e0198781-36ad-4c53-fd72-b582f8f25918"
      },
      "execution_count": 9,
      "outputs": [
        {
          "output_type": "stream",
          "name": "stdout",
          "text": [
            "(9, 27)\n"
          ]
        }
      ]
    },
    {
      "cell_type": "markdown",
      "source": [
        "**5- Contagem Regressiva**\n",
        "\n",
        "Crie uma função *contagem_regressiva* que recebe um número início e imprime todos os números do *início* até 1.\n",
        "\n",
        "Use um laço de repetição *for* ou *while* para inteirar e imprimir os números sequencialmente. Não é necessário retornar nada."
      ],
      "metadata": {
        "id": "VlLMvwDysvFm"
      }
    },
    {
      "cell_type": "code",
      "source": [
        "def contagem_regressiva(inicio):\n",
        "    for e in range(inicio, 0, -1):\n",
        "        print(e)"
      ],
      "metadata": {
        "id": "rmch6ZfrtvPO"
      },
      "execution_count": 10,
      "outputs": []
    },
    {
      "cell_type": "code",
      "source": [
        "contagem_regressiva(12)"
      ],
      "metadata": {
        "colab": {
          "base_uri": "https://localhost:8080/"
        },
        "id": "RFPabj-nPQMR",
        "outputId": "fec0f778-5250-48e1-8f69-2fd641bacde5"
      },
      "execution_count": 11,
      "outputs": [
        {
          "output_type": "stream",
          "name": "stdout",
          "text": [
            "12\n",
            "11\n",
            "10\n",
            "9\n",
            "8\n",
            "7\n",
            "6\n",
            "5\n",
            "4\n",
            "3\n",
            "2\n",
            "1\n"
          ]
        }
      ]
    }
  ]
}